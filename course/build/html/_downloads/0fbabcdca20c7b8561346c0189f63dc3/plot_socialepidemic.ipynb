{
  "cells": [
    {
      "cell_type": "code",
      "execution_count": null,
      "metadata": {
        "collapsed": false
      },
      "outputs": [],
      "source": [
        "%matplotlib inline"
      ]
    },
    {
      "cell_type": "markdown",
      "metadata": {},
      "source": [
        "\n\n# The Social Epidemic\n\nFROM BOOK\n\n## The SIR model\n  \nIn terms of differential equations, the rate of change of susceptible individuals is\n\n\\begin{align}:label: susc\\end{align}\n \n   \\frac{dS}{dt} = \\underbrace{-b S I }_{\\mbox{I} + \\mbox{S} \\xrightarrow{b} 2 \\mbox{I}}\n\nand the rate of change of infectives is \n\n\\begin{align}:label: infect\\end{align}\n \n   \\frac{dI}{dt} = \\underbrace{b S I }_{\\mbox{I} + \\mbox{S} \\xrightarrow{b} 2 \\mbox{I}} - \\underbrace{c I }_{\\mbox{I} \\xrightarrow{c} \\mbox{R}} \n\nThe constant $b$ is the rate of contact between people and $c$ is the rate of recovery.\nWe can also write down an equation for recovery as follows,\n\n\\begin{align}:label: recover\\end{align}\n \n   \\frac{dR}{dt} = \\underbrace{c I }_{\\mbox{I} \\xrightarrow{c} \\mbox{R}} \n\nIn this model $S$, $I$ and $R$ are proportions of the population. Summing them up gives $S+I+R=1$, since \neveryone in the popultaion is either susceptible, infective or recovered.\n\nLet's now solve these equations numerically. We start by importing the libraries we need from Python.\n"
      ]
    },
    {
      "cell_type": "code",
      "execution_count": null,
      "metadata": {
        "collapsed": false
      },
      "outputs": [],
      "source": [
        "import numpy as np\nimport matplotlib.pyplot as plt\nimport matplotlib\nfrom pylab import rcParams\nmatplotlib.font_manager.FontProperties(family='Helvetica',size=11)\nrcParams['figure.figsize'] = 9/2.54, 9/2.54\nfrom scipy import integrate"
      ]
    },
    {
      "cell_type": "markdown",
      "metadata": {},
      "source": [
        "Now we define the model. This code creates a function \nwhich we can use to simulate differential equations :eq:`susc` and :eq:`infect`. \nWe also define the parameter values. You can change these to see how\nchanges to the paramaters leads to changes in the outcome of the model. \n\n"
      ]
    },
    {
      "cell_type": "code",
      "execution_count": null,
      "metadata": {
        "collapsed": false
      },
      "outputs": [],
      "source": [
        "# Parameter values\nb = 3.5\nc = 1\n\n# Differential equation\ndef dXdt(X, t=0):\n    # Growth rate of fox and rabbit populations.\n    return np.array([  - b*X[0]*X[1] ,      #Susceptible X[0] is S\n                      b*X[0]*X[1]   - c*X[1],      #Infectives X[1] is I\n                      c*X[1]])                     #Recovered X[2] is R"
      ]
    },
    {
      "cell_type": "markdown",
      "metadata": {},
      "source": [
        "We solve the equations numerically and plot solution over time. \n\n"
      ]
    },
    {
      "cell_type": "code",
      "execution_count": null,
      "metadata": {
        "collapsed": false
      },
      "outputs": [],
      "source": [
        "def plotEpidemicOverTime(ax,S,I,R):\n\n    ax.plot(t, S, '-',color='k', label='Suceptible (S)')\n    ax.plot(t, I  , '--',color='k', label='Infectives (I)')\n    ax.plot(t, R  , '--',color='k', label='Recovered (R)')\n    ax.legend(loc='best')\n    ax.set_xlabel('Time: t')\n    ax.set_ylabel('Population')\n    ax.spines['top'].set_visible(False)\n    ax.spines['right'].set_visible(False)\n    ax.set_xticks(np.arange(0,20,step=2))\n    ax.set_yticks(np.arange(0,1.01,step=0.5))\n    ax.set_xlim(0,20)\n    ax.set_ylim(0,1) \n    \n\nt = np.linspace(0, 20,  1000)               # time\nX0 = np.array([0.9999, 0.0001,0.0000])      # initially 99.99% are uninfected\nX = integrate.odeint(dXdt, X0, t)           # uses a Python package to simulate the interactions\nS, I, R = X.T\nfig,ax=plt.subplots(num=1)\nplotEpidemicOverTime(ax,S,I,R)\nplt.show()"
      ]
    },
    {
      "cell_type": "markdown",
      "metadata": {},
      "source": [
        "As with the  `precator prey model<rabbitsandfoxes>` we can find\nthe equilibria where the rate at which people become infected equals the \nrate at which they recover by solving\n\n\\begin{align}\\\\frac{dI}{dt} = b S I - c I =0\\end{align}\n\nThis occurs either when $I=0$ (no-one has the disease) or \nwhen $S=c/b$. We can now plot these equilibrium on the phase plane\n\n\n"
      ]
    },
    {
      "cell_type": "code",
      "execution_count": null,
      "metadata": {
        "collapsed": false
      },
      "outputs": [],
      "source": [
        "def plotPhasePlane(ax,S,I):\n    ax.plot(S, I, '-',color='k')\n    ax.set_xlabel('Susceptibles: S')\n    ax.set_ylabel('Infectives: I')\n    ax.spines['top'].set_visible(False)\n    ax.spines['right'].set_visible(False)\n    ax.set_xticks(np.arange(0,1.01,step=0.5))\n    ax.set_yticks(np.arange(0,1.01,step=0.5))\n    ax.set_ylim(0,1)   \n    ax.set_xlim(0,1) \n\ndef drawArrows(ax,dXdt):\n    x = np.linspace(0.05, 1 ,6)\n    y = np.linspace(0.05, 1, 6)\n    X , Y  = np.meshgrid(x, y)\n    dX, dY, dZ = dXdt([X, Y,1-X-Y]) \n    #Make in to unit vectors. \n    M = np.hypot(dX,dY)\n    dX = dX/M\n    dY = dY/M\n    ax.quiver(X, Y, dX, dY, pivot='mid')\n\nfig,ax=plt.subplots(num=1)\nax.plot([c/b,c/b],[-100,100],linestyle=':',color='k')\nplotPhasePlane(ax,S,I)\ndrawArrows(ax,dXdt)\nplt.show()"
      ]
    },
    {
      "cell_type": "markdown",
      "metadata": {},
      "source": [
        "## Social recovery\n\nFROM BOOK\n\n\nIn terms of differential equations, the rate of change of susceptible individuals remains the same as before\n\\begin{align}:label: susc\n\n   \\\\frac{dS}{dt} = \\\\underbrace{-b S I }_{\\mbox{I} + \\mbox{S} \\\\xrightarrow{b} 2 \\mbox{I}}\\end{align}\n\nbut the rate of change of infectives is now\n\n\\begin{align}:label: infect\n\n   \\\\frac{dI}{dt} = \\\\underbrace{b S I }_{\\mbox{I} + \\mbox{S} \\\\xrightarrow{b} 2 \\mbox{I}} - \\\\underbrace{c I }_{\\mbox{I} \\\\xrightarrow{c} \\mbox{R}} - \\\\underbrace{d I R }_{\\mbox{I} + \\mbox{R}  \\\\xrightarrow{d} 2 \\mbox{R}}\\end{align}\n\nThe constant $b$ is the rate of contact between people and $c$ is the rate of contact between infectives and recovered individuals.\nWe can also write down an equation for recovery as follows,\n\n\\begin{align}:label: recover\n\n   \\\\frac{dR}{dt} = \\\\underbrace{c I }_{\\mbox{I} \\\\xrightarrow{c} \\mbox{R}} + \\\\underbrace{d I R }_{\\mbox{I} + \\mbox{R}  \\\\xrightarrow{d} 2 \\mbox{R}}\\end{align}\n\nIn Python these equations are written as follows.\n\n"
      ]
    },
    {
      "cell_type": "code",
      "execution_count": null,
      "metadata": {
        "collapsed": false
      },
      "outputs": [],
      "source": [
        "# Parameter values\nb = 3.5\nc = 1\nd = 1\n\n# Differential equation\ndef dXdt(X, t=0):\n    # Growth rate of fox and rabbit populations.\n    return np.array([  - b*X[0]*X[1] ,      #Susceptible X[0] is S\n                      b*X[0]*X[1]   - c*X[1] - d*X[1]*X[2],      #Infectives X[1] is I\n                      c*X[1] + d*X[1]*X[2]])                     #Recovered X[2] is R\n\nt = np.linspace(0, 20,  1000)               # time\nX0 = np.array([0.9999, 0.0001,0.0000])      # initially 99.99% are uninfected\nX = integrate.odeint(dXdt, X0, t)           # uses a Python package to simulate the interactions\nS, I, R = X.T\nfig,ax=plt.subplots(num=1)\nplotEpidemicOverTime(ax,S,I,R)\nplt.show()"
      ]
    },
    {
      "cell_type": "markdown",
      "metadata": {},
      "source": [
        "Again, we can find the equilibria where the rate at which people become infected equals the \nrate at which they recover by solving\n\n\\begin{align}\\\\frac{dI}{dt} = b S I - c I - d I (1- S -I) =0\\end{align}\n\nThis occurs either when $I=0$ (no-one has the disease) or \n\nwhen \n\n\\begin{align}b S I = c I + d I - d S I - dI^2\\end{align}\n\n\nor, equivalently,\n\n\\begin{align}(b + d) SI = (c+d) I  - d I^2\\end{align}\n\nor\n\\begin{align}S = \\\\frac{c+d}{b+d} - \\\\frac{d}{b+d} I\\end{align}\n\nWe can now plot these equilibrium on the phase plane\n\n\n"
      ]
    },
    {
      "cell_type": "code",
      "execution_count": null,
      "metadata": {
        "collapsed": false
      },
      "outputs": [],
      "source": [
        "I_equilibrium = np.linspace(0, 1,  1000)               \nS_equilibrium = (c+d)/(b+d) - (d/(b+d))*I_equilibrium     \n\nfig,ax=plt.subplots(num=1)\nax.plot(S_equilibrium,I_equilibrium,linestyle=':',color='k')\nplotPhasePlane(ax,S,I)\n\nX0 = np.array([0.6999, 0.0001,0.3])      # initially 99.99% are uninfected\nX = integrate.odeint(dXdt, X0, t)           # uses a Python package to simulate the interactions\nS, I, R = X.T\nplotPhasePlane(ax,S,I)\n\ndrawArrows(ax,dXdt)\n\nplt.show()"
      ]
    },
    {
      "cell_type": "markdown",
      "metadata": {},
      "source": [
        "## Examples\n\nApplause\nOther examples\n"
      ]
    }
  ],
  "metadata": {
    "kernelspec": {
      "display_name": "Python 3",
      "language": "python",
      "name": "python3"
    },
    "language_info": {
      "codemirror_mode": {
        "name": "ipython",
        "version": 3
      },
      "file_extension": ".py",
      "mimetype": "text/x-python",
      "name": "python",
      "nbconvert_exporter": "python",
      "pygments_lexer": "ipython3",
      "version": "3.10.4"
    }
  },
  "nbformat": 4,
  "nbformat_minor": 0
}