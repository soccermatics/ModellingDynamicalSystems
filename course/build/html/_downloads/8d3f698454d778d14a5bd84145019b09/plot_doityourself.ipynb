{
  "cells": [
    {
      "cell_type": "code",
      "execution_count": null,
      "metadata": {
        "collapsed": false
      },
      "outputs": [],
      "source": [
        "%matplotlib inline"
      ]
    },
    {
      "cell_type": "markdown",
      "metadata": {},
      "source": [
        "\n# Do it yourself\n\n## Fitting a single variable model to GDP\n\nThe plot below should show change in GDP for the four countries. The code below is wrong. Complete it by filling in the correct code\nbelow.\n"
      ]
    },
    {
      "cell_type": "code",
      "execution_count": null,
      "metadata": {
        "collapsed": false
      },
      "outputs": [],
      "source": [
        "#Import libraries\n#Plotting \nimport matplotlib.pyplot as plt\nimport pandas as pd\nimport numpy as np\nimport sklearn.linear_model as skl_lm\n\ndf = pd.read_csv('../data/CM_GDP.csv')\n\ncountries=['SWE','USA','CHN','UGA']\ncountry_colour_dict= {\n  \"USA\": \"blue\",\n  \"CHN\": \"red\",\n  \"SWE\": \"yellow\",\n  \"UGA\": \"black\",\n  \"AFG\": \"green\"\n}\n\nfig,ax=plt.subplots(num=1)\nfor country in countries:\n    df_country=df.loc[df['Country'] == country]\n\n    years=np.array(df_country['Year']).astype('int32')\n    ax.plot(years,df_country['GDP'],linestyle='none', color =country_colour_dict[country], markersize=3, marker='o',label=country)\nax.legend()\nax.set_xticks(np.arange(1960,2030,step=10))\nax.set_yticks(np.arange(5,14,step=1))\nax.set_ylabel('log GDP per person')\nax.set_xlabel('Year (k)')\nax.spines['top'].set_visible(False)\nax.spines['right'].set_visible(False)\nax.set_xlim(1960,2030)\nax.set_ylim(4,13) \n\nplt.show()"
      ]
    },
    {
      "cell_type": "markdown",
      "metadata": {},
      "source": [
        "## Single variable\n\nFit a linear regression model\n\n\\begin{align}y(k) = G(k+1) - G(k) = a + b_0 G(k) + b_1 G(k)^2 + \\epsilon, \\qquad \\epsilon \\sim \\mathcal{N}(0, \\sigma^2)\\end{align}\n\nto describe the change in log(GDP) from one year to the next. Again, fill in the blanks.\n\n\n"
      ]
    },
    {
      "cell_type": "code",
      "execution_count": null,
      "metadata": {
        "collapsed": false
      },
      "outputs": [],
      "source": [
        "#Create the variables\ndf['G2'] = df['GDP']**2\n#Set up the model\nX_train = df[['GDP','G2']]\ny_train = df['Diff GDP']\n#Fit the model\nmodel = skl_lm.LinearRegression(fit_intercept=True)\nmodel.fit(X_train, y_train)\n# Print the coefficients\nprint('The coefficients are:', model.coef_)\nprint(f'The offset is: {model.intercept_:.3f}')\nb = model.coef_\na=model.intercept_\n\nG = np.arange(0,14,0.1)\ndG = a + b[0] * G + b[1]*G**2"
      ]
    },
    {
      "cell_type": "markdown",
      "metadata": {},
      "source": [
        "Make a plot of the change in GDP as a function of GDP.\n\n\n"
      ]
    },
    {
      "cell_type": "code",
      "execution_count": null,
      "metadata": {
        "collapsed": false
      },
      "outputs": [],
      "source": [
        "fig,ax=plt.subplots(num=1)\nax.plot(df['GDP'],df['Diff GDP'],linestyle='none', markersize=1,color='grey',marker='.')\nax.plot(G,dG,linewidth=2)\nax.plot([0 ,200],[0, 0],linestyle=':',color='black')\nax.set_yticks(np.arange(-5,0.5,step=1))\nax.set_xticks(np.arange(4,14,step=1))\nax.set_ylabel('$G(k+1)-G(k)$')\nax.set_xlabel('log GDP: $G(k)$')\nax.spines['top'].set_visible(False)\nax.spines['right'].set_visible(False)\nax.set_xlim(4,14) \nax.set_ylim(-0.5,0.5) \nplt.show()"
      ]
    },
    {
      "cell_type": "markdown",
      "metadata": {},
      "source": [
        "Predict future evoltion of GDP\n\n"
      ]
    },
    {
      "cell_type": "code",
      "execution_count": null,
      "metadata": {
        "collapsed": false
      },
      "outputs": [],
      "source": [
        "fig,ax=plt.subplots(num=1)\nfor country in countries:\n    df_country=df.loc[df['Country'] == country]\n\n    years=np.array(df_country['Year']).astype('int32')\n    ax.plot(years,df_country['GDP'],linestyle='none', color =country_colour_dict[country], markersize=3, marker='o',label=country)\n  \n    numyears=20\n    future_GDP=np.zeros(numyears)\n    future_GDP[0]=df_country['GDP'][-1:]\n    \n    \n    for t in range(numyears-1):\n        future_GDP[t+1]=future_GDP[t]+ a + b[0] * future_GDP[t] + b[1]*future_GDP[t]**2 \n\n    ax.plot(int(df_country['Year'][-1:])+np.arange(numyears),future_GDP, color =country_colour_dict[country],linestyle='-',label=country)\nax.legend()\nax.set_xticks(np.arange(1960,2045,step=10))\nax.set_yticks(np.arange(4,14,step=1))\nax.set_ylabel('log GDP')\nax.set_xlabel('Year (k)')\nax.spines['top'].set_visible(False)\nax.spines['right'].set_visible(False)\nax.set_xlim(1960,2040)\nax.set_ylim(4,14)   \nplt.show()"
      ]
    },
    {
      "cell_type": "markdown",
      "metadata": {},
      "source": [
        "## Two variables\n\nFill in the code below to simulate the model we fitted on page `twovariable`_ \nto make predictions of how child mortality and GDP will chnage over the next 30 years.\n\nThe co-efficients in your simulated model must be the same as the ones you found when fitting the model.\n\n"
      ]
    },
    {
      "cell_type": "code",
      "execution_count": null,
      "metadata": {
        "collapsed": false
      },
      "outputs": [],
      "source": [
        "a =-8.858454419403133\nb = np.array([ 1.46411726e-02, -2.38007308e-05,  2.05646960e-07,  1.77883326e+00,\n       -8.79490494e-02, -5.84214256e-03])\naG=  -0.09681972964030267\nbG = np.array([-9.97793571e-04,  4.01217410e-06, -6.50712348e-09,  4.55148930e-02,\n       -3.13345168e-03,  7.30278312e-05])\n\n\n\nfig,ax=plt.subplots(num=1)\nfor country in countries:\n    df_country=df.loc[df['Country'] == country]\n    ax.plot(df_country['GDP'], df_country['Child Mortality'],linestyle='none', markersize=3, color =country_colour_dict[country],  marker='o',label=country)\n       \n    numyears=20\n    future_CM=np.zeros(numyears)\n    future_CM[0]=df_country['Child Mortality'][-1:]\n    future_GDP=np.zeros(numyears)\n    future_GDP[0]=df_country['GDP'][-1:]\n    \n    ax.legend()\n    \n    for t in range(numyears-1):\n        future_CM[t+1]=future_CM[t]+ a + b[0] * future_CM[t] + b[1]*future_CM[t]**2 + b[2]*future_CM[t]**3  + b[3]*future_GDP[t] + b[4]*future_GDP[t]**2 + b[5]*future_CM[t]*future_GDP[t]\n        future_GDP[t+1]=future_GDP[t]+ aG + bG[0] * future_CM[t] + bG[1]*future_CM[t]**2 + bG[2]*future_CM[t]**3 + bG[3]*future_GDP[t] + bG[4]*future_GDP[t]**2 + bG[5]*future_CM[t]*future_GDP[t]\n    \n    ax.plot(future_GDP,future_CM, color =country_colour_dict[country],linestyle='-',label=country)\n\nax.set_xticks(np.arange(5,12,step=1))\nax.set_yticks(np.arange(0,200,step=25))\nax.set_ylabel('Child Mortality (per 1000)')\nax.set_xlabel('log(GDP)')\nax.spines['top'].set_visible(False)\nax.spines['right'].set_visible(False)\nax.set_ylim(0,201) \nax.set_xlim(5,11.5)"
      ]
    }
  ],
  "metadata": {
    "kernelspec": {
      "display_name": "Python 3",
      "language": "python",
      "name": "python3"
    },
    "language_info": {
      "codemirror_mode": {
        "name": "ipython",
        "version": 3
      },
      "file_extension": ".py",
      "mimetype": "text/x-python",
      "name": "python",
      "nbconvert_exporter": "python",
      "pygments_lexer": "ipython3",
      "version": "3.10.4"
    }
  },
  "nbformat": 4,
  "nbformat_minor": 0
}