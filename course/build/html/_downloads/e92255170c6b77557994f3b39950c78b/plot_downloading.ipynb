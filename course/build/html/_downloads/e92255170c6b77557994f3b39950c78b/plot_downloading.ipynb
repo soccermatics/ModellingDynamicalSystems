{
  "cells": [
    {
      "cell_type": "code",
      "execution_count": null,
      "metadata": {
        "collapsed": false
      },
      "outputs": [],
      "source": [
        "%matplotlib inline"
      ]
    },
    {
      "cell_type": "markdown",
      "metadata": {},
      "source": [
        "\n\n# World Bank Data\n\nIn this notebook we will model world development, inspired by the\npresentations of [Hans Rosling on 200 years that changed the\nworld](https://https://www.gapminder.org/videos/200-years-that-changed-the-world/).\n\nWe will go through the steps of downloading data from an Application\nProgramming Interface (API), plotting it, fitting a linear regression\nmodel (with non-linear terms) and then using a model to make future\npredictions.\n\nFirst we use the World Bank API in order to download the data.\n"
      ]
    },
    {
      "cell_type": "code",
      "execution_count": null,
      "metadata": {
        "collapsed": false
      },
      "outputs": [],
      "source": [
        "#Import libraries\n#Plotting \nimport matplotlib as mpl\nimport matplotlib.pyplot as plt\n#Dataframes (panda) and math opperations (numpy)\nimport pandas as pd\nimport numpy as np\n#World bank data interface\nimport world_bank_data as wb\n#Import machine learning tools (for linear regression)\nimport sklearn.linear_model as skl_lm\nimport itertools\nimport math\n    \n# Default plotting options.\nmpl.rcParams['axes.spines.right'] = False\nmpl.rcParams['axes.spines.top'] = False"
      ]
    },
    {
      "cell_type": "markdown",
      "metadata": {},
      "source": [
        "Now we download the data set, indexed with the country code.\n\nThe data is downloaded from here [here](https://databank.worldbank.org/home).\n\n"
      ]
    },
    {
      "cell_type": "code",
      "execution_count": null,
      "metadata": {
        "collapsed": false
      },
      "outputs": [],
      "source": [
        "gdp_percapita = wb.get_series('NY.GNP.PCAP.CD', id_or_value='id', simplify_index=True)\ngdp_percapita\nchildmortality = wb.get_series('SH.DYN.MORT', id_or_value='id', simplify_index=True)\nchildmortality"
      ]
    },
    {
      "cell_type": "markdown",
      "metadata": {},
      "source": [
        "Now we reorganise the data so it is in a dataframe (like an Excel\nspreadsheet) with columns Year, Country, Child Mortality (per 10,000\nbirths) ($C(k)$), log Gross Domestic Product per person\n($G(k)$) and change in these two variables \u2014 $C(k+1)-C(k)$\nand $G(k+1)-G(k)$ \u2014 over time $k$.\n\n(This can take one minute or so to run)\n\n"
      ]
    },
    {
      "cell_type": "code",
      "execution_count": null,
      "metadata": {
        "collapsed": false
      },
      "outputs": [],
      "source": [
        "cm=childmortality.to_frame()\ngdp=gdp_percapita.to_frame()\n\ndf = pd.DataFrame(columns=('Year', 'Country','Child Mortality','GDP','Diff CM','Diff GDP'))\ncountries = cm.index\nthis_country=''\nthis_cm=0\nthis_gdp=0\nj=0\n\nfor i,c in enumerate(countries):\n    \n\n    prev_cm=this_cm\n    prev_gdp=this_gdp\n    prev_country=this_country\n        \n    #Update for this year.\n    this_year=c[1]\n    this_cm=cm.iloc[i]['SH.DYN.MORT']\n    this_gdp=np.log(gdp.iloc[i]['NY.GNP.PCAP.CD'])\n    this_country=c[0]\n    \n    if (prev_country==this_country):\n        #Update differences and put in matrix\n        diff_cm=this_cm-prev_cm\n        diff_gdp=this_gdp-prev_gdp\n        if not(np.isnan(diff_cm) or np.isnan(diff_gdp)):\n            df.loc[j] = [this_year,this_country,this_cm,this_gdp,diff_cm,diff_gdp]\n            j=j+1\n\ndf.head()\n#df.to_csv('../data/CM_GDP.csv')"
      ]
    },
    {
      "cell_type": "markdown",
      "metadata": {},
      "source": [
        "By uncommenting the line above you save the data set to a directory called\ndata. \n"
      ]
    }
  ],
  "metadata": {
    "kernelspec": {
      "display_name": "Python 3",
      "language": "python",
      "name": "python3"
    },
    "language_info": {
      "codemirror_mode": {
        "name": "ipython",
        "version": 3
      },
      "file_extension": ".py",
      "mimetype": "text/x-python",
      "name": "python",
      "nbconvert_exporter": "python",
      "pygments_lexer": "ipython3",
      "version": "3.10.4"
    }
  },
  "nbformat": 4,
  "nbformat_minor": 0
}