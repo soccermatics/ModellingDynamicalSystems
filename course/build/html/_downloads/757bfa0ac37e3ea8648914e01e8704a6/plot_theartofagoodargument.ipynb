{
  "cells": [
    {
      "cell_type": "code",
      "execution_count": null,
      "metadata": {
        "collapsed": false
      },
      "outputs": [],
      "source": [
        "%matplotlib inline"
      ]
    },
    {
      "cell_type": "markdown",
      "metadata": {},
      "source": [
        "\n# The art of a good argument\n\nHere we...\n\n\nThe way we determine whether Charlie will start shouting is using \nthe following table.\n"
      ]
    },
    {
      "cell_type": "code",
      "execution_count": null,
      "metadata": {
        "collapsed": false
      },
      "outputs": [],
      "source": [
        "import numpy as np\nimport pandas as pd\n\nCharlie_shout =np.array([[0.1, 0.5],[0.7,0.95]])\nCharlie_rules = pd.DataFrame(data= Charlie_shout,index=['Aisha calm', 'Aisha shouting'], columns=['Charlie calm', 'Charlie shoting'])\nprint('Probability of Charlie shouting:')\nprint(Charlie_rules)\n\nAisha_shout =np.array([[0.1, 0.7],[0.5,0.95]])\nAisha_rules = pd.DataFrame(data= Aisha_shout,index=['Aisha calm', 'Aisha shouting'], columns=['Charlie calm', 'Charlie shoting'])\nprint('Probability of Aisha shouting:')\nprint(Aisha_rules)"
      ]
    },
    {
      "cell_type": "markdown",
      "metadata": {},
      "source": [
        "Initially, neither of them are shouting\n\n"
      ]
    },
    {
      "cell_type": "code",
      "execution_count": null,
      "metadata": {
        "collapsed": false
      },
      "outputs": [],
      "source": [
        "#Number of time steps\nT = 25\n\nCharlie=[0]\nAisha=[0]"
      ]
    },
    {
      "cell_type": "markdown",
      "metadata": {},
      "source": [
        "Now we loop over 25 steps of discussion according to the rules above. \n\n\n"
      ]
    },
    {
      "cell_type": "code",
      "execution_count": null,
      "metadata": {
        "collapsed": false
      },
      "outputs": [],
      "source": [
        "def argument(T,Charlie_rules,Aisha_rules,print_out=1):\n    for i in range(T):\n\n        Prob_Charlie = Charlie_rules.iloc[Charlie[i]][Aisha[i]]\n        if np.random.rand()<Prob_Charlie:\n            describe_Charlie = 'Charlie shouts. '\n            Charlie.append(1)\n        else:\n            describe_Charlie = \"Charlie doesn't shout. \"\n            Charlie.append(0)\n                    \n        Prob_Aisha = Aisha_rules.iloc[Charlie[i]][Aisha[i]]\n        if np.random.rand()<Prob_Aisha:\n            describe_Aisha = 'Aisha shouts.'\n            Aisha.append(1)\n        else:\n            describe_Aisha = \"Aisha doesn't shout.\"\n            Aisha.append(0)\n            \n        if print_out:\n            print('Time step %d:' % (i+1) + describe_Charlie +describe_Aisha)\n    \n    return Aisha,Charlie\n\nAisha,Charlie = argument(T,Charlie_rules,Aisha_rules)"
      ]
    },
    {
      "cell_type": "markdown",
      "metadata": {},
      "source": [
        "We can also represent the steps in the environment as a binary string.\n\n\n"
      ]
    },
    {
      "cell_type": "code",
      "execution_count": null,
      "metadata": {
        "collapsed": false
      },
      "outputs": [],
      "source": [
        "print(\"Charlie's shouting as a string of zeros (clam) and ones (shouting):\")\nprint(' '.join(map(str, Charlie)))\nprint(\"Aisha's shouting as a string of zeros (clam) and ones (shouting):\")\nprint(' '.join(map(str, Aisha)))"
      ]
    },
    {
      "cell_type": "markdown",
      "metadata": {},
      "source": [
        "WNow we can make them argue lots of times!\n\n\n"
      ]
    },
    {
      "cell_type": "code",
      "execution_count": null,
      "metadata": {
        "collapsed": false
      },
      "outputs": [],
      "source": [
        "for j in range(5):\n    \n    Charlie=[0]\n    Aisha=[0]\n    print('Argument %d' % (j+1))\n    print('----------')\n    Aisha,Charlie = argument(T,Charlie_rules,Aisha_rules,0)\n    print(\"Charlie's shouting as a string of zeros (clam) and ones (shouting):\")\n    print(' '.join(map(str, Charlie)))\n    print(\"Aisha's shouting as a string of zeros (clam) and ones (shouting):\")\n    print(' '.join(map(str, Aisha)))\n    print('\\n')"
      ]
    },
    {
      "cell_type": "markdown",
      "metadata": {},
      "source": [
        "Let's update Charlie's rules.\n\n\n"
      ]
    },
    {
      "cell_type": "code",
      "execution_count": null,
      "metadata": {
        "collapsed": false
      },
      "outputs": [],
      "source": [
        "Charlie_shout =np.array([[0.1, 0.1],[0.1,0.95]])\nCharlie_rules = pd.DataFrame(data= Charlie_shout,index=['Aisha calm', 'Aisha shouting'], columns=['Charlie calm', 'Charlie shoting'])\nprint('Probability of Charlie shouting:')\nprint(Charlie_rules)"
      ]
    },
    {
      "cell_type": "markdown",
      "metadata": {},
      "source": [
        "Now let's look at five arguments\n\n\n"
      ]
    },
    {
      "cell_type": "code",
      "execution_count": null,
      "metadata": {
        "collapsed": false
      },
      "outputs": [],
      "source": [
        "for j in range(5):\n    \n    Charlie=[0]\n    Aisha=[0]\n    print('Argument %d' % (j+1))\n    print('----------')\n    Aisha,Charlie = argument(T,Charlie_rules,Aisha_rules,0)\n    print(\"Charlie's shouting as a string of zeros (clam) and ones (shouting):\")\n    print(' '.join(map(str, Charlie)))\n    print(\"Aisha's shouting as a string of zeros (clam) and ones (shouting):\")\n    print(' '.join(map(str, Aisha)))\n    print('\\n')"
      ]
    }
  ],
  "metadata": {
    "kernelspec": {
      "display_name": "Python 3",
      "language": "python",
      "name": "python3"
    },
    "language_info": {
      "codemirror_mode": {
        "name": "ipython",
        "version": 3
      },
      "file_extension": ".py",
      "mimetype": "text/x-python",
      "name": "python",
      "nbconvert_exporter": "python",
      "pygments_lexer": "ipython3",
      "version": "3.10.4"
    }
  },
  "nbformat": 4,
  "nbformat_minor": 0
}