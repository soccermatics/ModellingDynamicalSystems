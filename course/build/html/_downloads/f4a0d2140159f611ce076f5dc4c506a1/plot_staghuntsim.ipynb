{
  "cells": [
    {
      "cell_type": "code",
      "execution_count": null,
      "metadata": {
        "collapsed": false
      },
      "outputs": [],
      "source": [
        "%matplotlib inline"
      ]
    },
    {
      "cell_type": "markdown",
      "metadata": {},
      "source": [
        "\n\n# The stag hunt\n\n**Now you should study a model yourself!** Download the page as a \nPython notebook and fill in the missing code according to the instructions.\n\n\n## The model\n\nThe stag hunt is modelled using the following payoff matrix. The dilemna is whether \nan individual should go hunting for a stag together with the group \n(which involves getting up early and driving to a desolate meeting place \n where your partner may of may not be wating for you) or hunt alone \n(which allows you to have a lie-in but means you only catch a rabbit).\n\n=================== ============= ==============\nindividual/partner  Group (C)      Self (D)\n=================== ============= ==============\nGroup (C)              1             $S=-1/4$\nSelf (D)               $T=1/2$ 0\n=================== ============= ==============\n\nWrite a replicator equation for this model. Start by finding the fitness of C and D. \nThen work out the average fitness.From there you can write down the replicator equation.\n\n\\begin{align}:label: stagsim\n\n  \\frac{dx}{dt} = f(x) = ....\\end{align}\n\nUse it to define the equation below.\n"
      ]
    },
    {
      "cell_type": "code",
      "execution_count": null,
      "metadata": {
        "collapsed": false
      },
      "outputs": [],
      "source": [
        "import numpy as np\nimport matplotlib.pyplot as plt\nimport matplotlib\nfrom pylab import rcParams\nmatplotlib.font_manager.FontProperties(family='Helvetica',size=11)\nrcParams['figure.figsize'] = 14/2.54, 12/2.54\nfrom scipy import integrate \n\n# Differential equation\ndef dXdt(X, t=0):\n    # Replicator equation - This is just a place holder for now \n    return np.array([X[0]])"
      ]
    },
    {
      "cell_type": "markdown",
      "metadata": {},
      "source": [
        "## Simulation\nNow solve the equations numerically and plot solution over time.\nInvestigate how the initial numbers of co-operators \naffects whether co-operation increases or \ndecreases in the population.\n\nMake two different plots using the *plotOverTime* function: \none in which eventually everyone co-operates, another in which \neventually everyone defects.\n\n"
      ]
    },
    {
      "cell_type": "code",
      "execution_count": null,
      "metadata": {
        "collapsed": false
      },
      "outputs": [],
      "source": [
        "def plotOverTime(ax,X):\n    ax.plot(t, X, '-',color='k', label='Co-operators (x)')\n    ax.plot(t, 1-X, ':',color='k', label='Defectors (x)')\n    ax.legend(loc='best')\n    ax.set_xlabel('Time: t')\n    ax.set_ylabel('Population')\n    ax.spines['top'].set_visible(False)\n    ax.spines['right'].set_visible(False)\n    ax.set_xticks(np.arange(0,31,step=5))\n    ax.set_yticks(np.arange(0,1.01,step=0.5))\n    ax.set_xlim(0,30)\n    ax.set_ylim(0,1)"
      ]
    },
    {
      "cell_type": "markdown",
      "metadata": {},
      "source": [
        "## Rate of change\n\nIn order to understand how the change in co-operators depends on the \ncurrent proportion of co-operators we plot equation eq:`repeqsim`\nas a function of $x$ as follows.\n\n"
      ]
    },
    {
      "cell_type": "code",
      "execution_count": null,
      "metadata": {
        "collapsed": false
      },
      "outputs": [],
      "source": [
        "def plotChange(ax):\n    xx=np.linspace(0, 30,  1000)  \n    dx = np.array([dXdt([xi]) for xi in xx])\n    \n    ax.plot(xx ,dx, '-',color='k')\n    ax.set_xlabel('Proportion co-operators: $x$')\n    ax.set_ylabel('Change in co-operators: $dx/dt=f(x)$')\n    ax.spines['top'].set_visible(False)\n    ax.spines['right'].set_visible(False)\n    ax.set_yticks(np.arange(-0.05,0.051,step=0.02))\n    ax.set_xticks(np.arange(0,1.01,step=0.2))\n    ax.set_ylim(-0.05,0.05)   \n    ax.set_xlim(0,1) \n\ndef drawArrows(ax,dXdt):\n    x = np.linspace(0.05, 1 ,6)\n    y = [0]\n    X , Y  = np.meshgrid(x, y)\n    dX = dXdt(X) \n    dY =np.zeros(len(dX))\n    ax.quiver(X, Y, dX, dY, pivot='mid', width=0.03)\n    ax.plot([0,1],[0,0],'k:')\n\nfig,ax=plt.subplots(num=1)\nplotChange(ax)\ndrawArrows(ax,dXdt)\nplt.show()"
      ]
    },
    {
      "cell_type": "markdown",
      "metadata": {},
      "source": [
        "## Steady states\n\nThe steady states are the points where $f(x_*)=0$. Find them\nnumerically using Python as follows.\n\n\n"
      ]
    },
    {
      "cell_type": "code",
      "execution_count": null,
      "metadata": {
        "collapsed": false
      },
      "outputs": [],
      "source": [
        "from scipy.optimize import fsolve\nx_s=np.zeros(3)\nx_initial=[0,0,0]\nfor i,x_i in enumerate(x_initial):\n    x_s[i]=fsolve(dXdt, (x_i))\n    print('Starting with value %.2f gives steady state %.2f'%(x_i,x_s[i]))"
      ]
    },
    {
      "cell_type": "markdown",
      "metadata": {},
      "source": [
        "The solution we find depends on the starting position. Here\nwe chose values we knew were nearby in order to be sure that we found them. \n\n## Stability\n\nFind the derivative of $f(x)$ (equation :eq:`repeqsim`) \nand use it to evaluate stability of the steady states.\n\n\\begin{align}f'(x) = .....\\end{align}\n\n\nWe can evaluate the steady states we found using this derivative to determine their stability.\n\n"
      ]
    },
    {
      "cell_type": "code",
      "execution_count": null,
      "metadata": {
        "collapsed": false
      },
      "outputs": [],
      "source": [
        "def dfdx(x):\n    # Replicator equation - place holder just now\n    return 1\n \nfor x in x_s:\n    dfx=dfdx(x)\n    if (dfx>0):\n        print(\"Steady state %.2f is unstable (f'(x)= %.4f)\"%(x,dfx))\n    elif (dfx<0):\n        print(\"Steady state %.2f is stable (f'(x)= %.4f)\"%(x,dfx))"
      ]
    }
  ],
  "metadata": {
    "kernelspec": {
      "display_name": "Python 3",
      "language": "python",
      "name": "python3"
    },
    "language_info": {
      "codemirror_mode": {
        "name": "ipython",
        "version": 3
      },
      "file_extension": ".py",
      "mimetype": "text/x-python",
      "name": "python",
      "nbconvert_exporter": "python",
      "pygments_lexer": "ipython3",
      "version": "3.10.4"
    }
  },
  "nbformat": 4,
  "nbformat_minor": 0
}