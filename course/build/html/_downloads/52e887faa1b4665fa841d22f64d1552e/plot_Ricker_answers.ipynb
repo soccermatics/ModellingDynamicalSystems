{
  "cells": [
    {
      "cell_type": "code",
      "execution_count": null,
      "metadata": {
        "collapsed": false
      },
      "outputs": [],
      "source": [
        "%matplotlib inline"
      ]
    },
    {
      "cell_type": "markdown",
      "metadata": {},
      "source": [
        "\n\n# Ricker map\n\n**Now you should study a model yourself!** Download the page as a \nPython notebook and fill in the missing code according to the instructions.\n\n\n## The model\n\nThe Ricker map is another discrete model of growth and regulatory feedback. \nIt describes a variable $x(k)$ which changes over discrete times steps.\nThe variable might be, for example, size of an insect population.  \n\nWe write the model as \n\n\\begin{align}\\end{align}\n  \n  x(k+1)) = r x(k)\\exp(-x(k))\n\nThe parameter $r$ determines growth rate. Investigate the dynamics \nof this model. Find and plot values of $r$ where the population is stable, where \nit oscilLates with period 2, where it oscilLates with period 4 and where it oscilLates \nwith period 3. \n"
      ]
    },
    {
      "cell_type": "code",
      "execution_count": null,
      "metadata": {
        "collapsed": false
      },
      "outputs": [],
      "source": [
        "import numpy as np\nimport matplotlib.pyplot as plt\nfrom pylab import rcParams\nimport matplotlib\nrcParams['figure.figsize'] = 12/2.54, 6/2.54\nmatplotlib.font_manager.FontProperties(family='Helvetica',size=11)\n\ndef logisticmap(x0,r,n):\n    xs=np.zeros(n+1)\n    xs[0]=x0\n    for k in range(n):\n        xs[k+1]= r*xs[k]*np.exp(-xs[k])\n    return(xs)\n\ndef formatFigure(ax,n):\n    ax.set_ylabel('Number: $k$')\n    ax.set_xlabel('Step: $x(k)$')\n    ax.set_ylim((0,10))\n    ax.set_xlim((0,n))\n    ax.set_xticks(np.arange(0,n+1,n/10))\n    ax.set_yticks(np.arange(0,10.01,1))\n    ax.spines['top'].set_visible(False)\n    ax.spines['right'].set_visible(False)\n\nn=20\nx0=0.2"
      ]
    },
    {
      "cell_type": "markdown",
      "metadata": {},
      "source": [
        "## Answer\n\nStable is given by r=3\n\n"
      ]
    },
    {
      "cell_type": "code",
      "execution_count": null,
      "metadata": {
        "collapsed": false
      },
      "outputs": [],
      "source": [
        "n=50\n\nfig,ax=plt.subplots(num=1)\nax.plot(logisticmap(x0,3,n), color='black')\nformatFigure(ax,n)\nplt.show()"
      ]
    },
    {
      "cell_type": "markdown",
      "metadata": {},
      "source": [
        "Periodic by r = 10\n\n"
      ]
    },
    {
      "cell_type": "code",
      "execution_count": null,
      "metadata": {
        "collapsed": false
      },
      "outputs": [],
      "source": [
        "fig,ax=plt.subplots(num=1)\nax.plot(logisticmap(x0,10,n), color='black')\nformatFigure(ax,n)\nplt.show()"
      ]
    },
    {
      "cell_type": "markdown",
      "metadata": {},
      "source": [
        "Period 4 by r =13\n\n"
      ]
    },
    {
      "cell_type": "code",
      "execution_count": null,
      "metadata": {
        "collapsed": false
      },
      "outputs": [],
      "source": [
        "fig,ax=plt.subplots(num=1)\nax.plot(logisticmap(x0,13,n), color='black')\nformatFigure(ax,n)\nplt.show()"
      ]
    },
    {
      "cell_type": "markdown",
      "metadata": {},
      "source": [
        "And period 3 by r=23\n\n"
      ]
    },
    {
      "cell_type": "code",
      "execution_count": null,
      "metadata": {
        "collapsed": false
      },
      "outputs": [],
      "source": [
        "fig,ax=plt.subplots(num=1)\nax.plot(logisticmap(x0,23,n), color='black')\nformatFigure(ax,n)\nplt.show()"
      ]
    },
    {
      "cell_type": "markdown",
      "metadata": {},
      "source": [
        "## Cobweb diagrams\n\nMake cobweb diagrams for the values you found.\n\n"
      ]
    },
    {
      "cell_type": "code",
      "execution_count": null,
      "metadata": {
        "collapsed": false
      },
      "outputs": [],
      "source": [
        "n = 50 \n\nr_vals=[3, 10, 13, 23]\n\n\nrcParams['figure.figsize'] = 12/2.54, 12/2.54\nfig,ax=plt.subplots(2,2)\n\n\nfor i,r in enumerate(r_vals):\n    xs = logisticmap(0.1,r,50)\n    xp = xs[0]\n    ax[int(i/2)][np.mod(i,2)].plot([xp, xp],[0, xp],color='k',linewidth=0.5)\n    for x in xs:\n        ax[int(i/2)][np.mod(i,2)].plot([xp, xp],[xp, x],color='k',linewidth=0.5)\n        ax[int(i/2)][np.mod(i,2)].plot([xp, x],[x, x],color='k',linewidth=0.5)\n        xp = x\n    \n    xr=np.arange(0,20,0.001)\n    fxr=r*xr*np.exp(-xr)\n    ax[int(i/2)][np.mod(i,2)].plot([-0.5, 105.5],[-0.5, 105.5],linestyle=':',color='k',linewidth=1)\n    ax[int(i/2)][np.mod(i,2)].plot(xr,fxr,color='r',linewidth=1)\n    ax[int(i/2)][np.mod(i,2)].set_xlabel('Previous number: $x(k)$')\n    ax[int(i/2)][np.mod(i,2)].set_ylabel('Next number: $x(k+1)$')\n    ax[int(i/2)][np.mod(i,2)].spines['top'].set_visible(False)\n    ax[int(i/2)][np.mod(i,2)].spines['right'].set_visible(False)\n    ax[int(i/2)][np.mod(i,2)].set_xticks(np.arange(0,10.01,step=1))\n    ax[int(i/2)][np.mod(i,2)].set_yticks(np.arange(0,10.01,step=1))\n    ax[int(i/2)][np.mod(i,2)].set_xlim(0,10.01)\n    ax[int(i/2)][np.mod(i,2)].set_ylim(0,10.01) \n    ax[int(i/2)][np.mod(i,2)].text(1.0,9.0,'r=%.1f'%r)\n    \nplt.show()"
      ]
    },
    {
      "cell_type": "markdown",
      "metadata": {},
      "source": [
        "## Sensitivity to initial conditions\n\nFind a value of $r$ where the Ricker map exhibits sensitivity to initial values. \nShow that even for an intitial difference of 0.0001 the resul of 20 iterations of the map\ngives a large difference.\n\n\n"
      ]
    },
    {
      "cell_type": "code",
      "execution_count": null,
      "metadata": {
        "collapsed": false
      },
      "outputs": [],
      "source": [
        "n=30\nr=26\n\nfig,ax=plt.subplots(num=1)\nax.plot(logisticmap(0.1000,r,n), color='black')\nax.plot(logisticmap(0.1001,r,n), color='red')\nformatFigure(ax,n)\nplt.show()"
      ]
    }
  ],
  "metadata": {
    "kernelspec": {
      "display_name": "Python 3",
      "language": "python",
      "name": "python3"
    },
    "language_info": {
      "codemirror_mode": {
        "name": "ipython",
        "version": 3
      },
      "file_extension": ".py",
      "mimetype": "text/x-python",
      "name": "python",
      "nbconvert_exporter": "python",
      "pygments_lexer": "ipython3",
      "version": "3.10.4"
    }
  },
  "nbformat": 4,
  "nbformat_minor": 0
}