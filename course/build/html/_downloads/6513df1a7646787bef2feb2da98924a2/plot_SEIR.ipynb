{
  "cells": [
    {
      "cell_type": "code",
      "execution_count": null,
      "metadata": {
        "collapsed": false
      },
      "outputs": [],
      "source": [
        "%matplotlib inline"
      ]
    },
    {
      "cell_type": "markdown",
      "metadata": {},
      "source": [
        "\n# SyntaxError\n\nExample script with invalid Python syntax\n\n"
      ]
    },
    {
      "cell_type": "code",
      "execution_count": null,
      "metadata": {
        "collapsed": false
      },
      "outputs": [],
      "source": [
        "\"\"\"\n.. _epidemic:\n\nThe SEIR model\n=============\n  \nIn the SEIR model, there is an additional class for people exposed (but not yet infective). The equations \nare now,\n\n  .. math::\n\n     \\begin{aligned}\n     \\frac{dS}{dt} & = - \\beta S I \\\\\n     \\frac{dE}{dt} & = \\beta S I - \\delta E\\\\\n     \\frac{dI}{dt} & = \\delta E -  \\gamma I \\\\\n     \\frac{dR}{dt} & =  \\gamma I \n     \\end{aligned}\n\n\n\n  Assume that :math:`\\gamma=1/7` and :math:`\\beta=1/5`. Write code to draw a\n  graph of :math:`I(t)` as a function of time (:math:`t`) for the cases in which\n  (on average) a person is exposed for 1, 5 and respectively 9 days before they are infected.\n  Assume that :math:`S(0)=999/1000`, :math:`E(0)=0`\n  and :math:`I(0)=1/1000`. \n\"\"\"\n\n# Parameter values\nbeta = 1/2\ngamma = 1/7\ndelta =\n\n# Differential equation\ndef dXdt(X, t=0):\n    # Growth rate \n    return np.array([  ])                      \n\n\n\ndef plotEpidemicOverTime(ax,S,I,R):\n\n    #Add code here.\n    ax.legend(loc='best')\n    ax.set_xlabel('Time: t')\n    ax.set_ylabel('Population')\n    ax.spines['top'].set_visible(False)\n    ax.spines['right'].set_visible(False)\n    ax.set_xticks(np.arange(0,100,step=10))\n    ax.set_yticks(np.arange(0,1.01,step=0.5))\n    ax.set_xlim(0,20)\n    ax.set_ylim(0,1) \n    \n\nt = np.linspace(0, 20,  1000)               # time\nX0 = np.array([0.9999, 0.0001,0.0000])      # initially 99.99% are uninfected\nX = integrate.odeint(dXdt, X0, t)           # uses a Python package to simulate the interactions\nS, I, R = X.T\nfig,ax=plt.subplots(num=1)\nplotEpidemicOverTime(ax,S,I,R)\nplt.show()"
      ]
    },
    {
      "cell_type": "markdown",
      "metadata": {},
      "source": [
        "Does $\\delta$ have a large effect on the final number of people infected? \nExplain your answer.\n\n"
      ]
    },
    {
      "cell_type": "code",
      "execution_count": null,
      "metadata": {
        "collapsed": false
      },
      "outputs": [],
      "source": [
        "| H\u00e4lsomyndigheten best\u00e4mmer att inf\u00f6ra restriktioner f\u00f6rst n\u00e4r 1% av\n  befolkning \u00e4r infekterad. Med restriktioner \u00e4r :math:`\\beta=1/15` men\n  utan restriktioner \u00e4r :math:`\\beta=1/5`. Unders\u00f6k konsekvenser av\n  detta beslut f\u00f6r olika v\u00e4rden p\u00e5 :math:`\\delta`, dvs simulera\n  spridning f\u00f6rst under antagandet att :math:`\\beta=1/5` och n\u00e4r\n  :math:`I(0)=0.01` \u00e4ndra smittsamheten till :math:`\\beta=1/15`. Skissa\n  :math:`R(t)` f\u00f6r olika :math:`\\delta`-v\u00e4rden och beskriv hur\n  :math:`\\delta` p\u00e5verkar utfallet.\n| **Tips:** Anv\u00e4nd\n\n::\n\n   ind = find(I>=0.01);\n   onepercent=ind(1);\n\nf\u00f6r att hitta tidpunkten, :math:`t`, d\u00e5 :math:`I(t)=0.01`."
      ]
    }
  ],
  "metadata": {
    "kernelspec": {
      "display_name": "Python 3",
      "language": "python",
      "name": "python3"
    },
    "language_info": {
      "codemirror_mode": {
        "name": "ipython",
        "version": 3
      },
      "file_extension": ".py",
      "mimetype": "text/x-python",
      "name": "python",
      "nbconvert_exporter": "python",
      "pygments_lexer": "ipython3",
      "version": "3.10.4"
    }
  },
  "nbformat": 4,
  "nbformat_minor": 0
}