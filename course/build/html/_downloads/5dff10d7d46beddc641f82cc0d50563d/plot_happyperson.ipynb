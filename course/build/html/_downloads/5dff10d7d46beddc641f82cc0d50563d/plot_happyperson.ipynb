{
  "cells": [
    {
      "cell_type": "code",
      "execution_count": null,
      "metadata": {
        "collapsed": false
      },
      "outputs": [],
      "source": [
        "%matplotlib inline"
      ]
    },
    {
      "cell_type": "markdown",
      "metadata": {},
      "source": [
        "\n# Happy individual\n\n**Imagine, after you have paid your bills, you have more than $200 per month to spend divided between three \ncategories: (1) material items, (2) experiences and (3) time-saving services. How should you \nspend this money in order to be as happy as possible?**\n\nHere we try to answer this question using a questionnaire \nconducted by Whillans et al. (2017). We look in particular at 1067 people with varying incomes, \nbut all with a budget of at least $200 to spend.  The study participants typically \nspent about $250 on (each of) material items and experiences, and about half as much on time-saving.   \n\nAll the participants were asked the question:\n\nPlease imagine a ladder with steps numbered from zero at the bottom to ten at the top. \nSuppose we say that the top of the ladder represents the best possible life for you and the bottom of \nthe ladder represents the worst possible life for you. On which step of the ladder would you say you \npersonally feel you stand at this time?\n\nThis is how the researchers measure happiness. \n"
      ]
    },
    {
      "cell_type": "code",
      "execution_count": null,
      "metadata": {
        "collapsed": false
      },
      "outputs": [],
      "source": [
        "import numpy as np\nimport pandas as pd\nimport pyreadstat\nimport matplotlib.pyplot as plt\nimport statsmodels.api as sm\nimport statsmodels.formula.api as smf\nimport random\n\nfrom pylab import rcParams\nrcParams['figure.figsize'] = 12/2.54, 12/2.54\n\n\n\ndef Rescale(value, scale_spending):\n    if value>=0:\n        Q = scale_spending[int(value)]\n    else:\n        Q =np.nan\n    return Q\n\ndf, meta = pyreadstat.read_sav(\"../data/Study7_QualtricsData.sav\")\n\n# The data is coded for different spending levels. \n# This converts the spending levels in to dollars.\nscale_spending = np.array([0] + list(range(10,100,20)) + list(range(150,1000,100)) + [1000] + [1000])\nscale_spending = np.append(scale_spending, [np.nan,np.nan,np.nan])\nscale_spending_labels = meta.value_labels['labels7']\n\n# There are three different happiness measures in the data\n# using different measures gives only slightly different results. \n\nhappiness_measure='SWL2'\n\n\nfor original_name in ['MATA','Bills','TSA','EXPA']:\n    df['spent_on_' + original_name] = df.apply(lambda row: Rescale(row[original_name],scale_spending), axis=1)\n\n# Find people who spent more than 200 dollars in total \n# These are the people we will look at in this study.\nmorethan200=df['spent_on_MATA']+df['spent_on_TSA']+df['spent_on_EXPA'] >200\ndf=df[morethan200]\n    \nprint('The average happiness score was %.2f.' % np.mean(df[happiness_measure]))\nprint('The standard deviation in happiness score was %.2f.' %np.std(df[happiness_measure]))\nprint('90 percent of people had a happiness score of %.2f or more.' % np.quantile(df[happiness_measure],0.9))\nprint('10 percent of people had a happiness score of %.2f or less.' % np.quantile(df[happiness_measure],0.1))"
      ]
    },
    {
      "cell_type": "markdown",
      "metadata": {},
      "source": [
        "Think about the answer you would give to this question now....\n\nThe participants gave a wide-range of answers, with an average of 7.15, \nbut scores as low as 3 and as high as 10 were not untypical.  \n\n"
      ]
    },
    {
      "cell_type": "markdown",
      "metadata": {},
      "source": [
        "## Does spending money on saving time make you happy?\n\n**First question: are people who spend money on saving time happier?**\n\nLet's start by looking at the difference in average happiness\n\n"
      ]
    },
    {
      "cell_type": "code",
      "execution_count": null,
      "metadata": {
        "collapsed": false
      },
      "outputs": [],
      "source": [
        "didspend=df['TSA']>0\ndidntspend=df['TSA']<=0\nmean_did= np.mean(df[happiness_measure][didspend])\nmean_didnt= np.mean(df[happiness_measure][didntspend])\n\nprint('The average happiness score for those who spent on time-saving was %.2f.' % mean_did)\nprint('The average happiness score for those who did not spent on time-saving was %.2f.' % mean_didnt)\n\nstd_did=np.nanstd(df[happiness_measure][didspend])\nn_did=len(df[happiness_measure][didspend])\nstd_didnt=np.nanstd(df[happiness_measure][didntspend])\nn_didnt=len(df[happiness_measure][didntspend])\ncohensd=(mean_did-mean_didnt)/np.sqrt(((n_did-1)*std_did**2+(n_didnt-1)*std_didnt**2)/(n_did+n_didnt-2))\n\nprint('The Cohens D for this difference is %.2f' % cohensd)"
      ]
    },
    {
      "cell_type": "markdown",
      "metadata": {},
      "source": [
        "Cohen's D is a statistic for measuring effect size. How big an \neffect does spending on time saving have? LINK EXPLAIN\n\nThe difference between the two groups can\u2019t be attributed to chance, since over one \nthousand people were surveyed, but it is not a particularly large difference. \nBut it is not particularly large. \nIt is illustrated below in a histogram for those \nwho did spend money on time saving (top) and those who did not.\n\n"
      ]
    },
    {
      "cell_type": "code",
      "execution_count": null,
      "metadata": {
        "collapsed": false
      },
      "outputs": [],
      "source": [
        "def FormatFigure(ax):\n    ax.legend(loc='upper left')\n    ax.set_ylim(0,0.32) \n    ax.spines['top'].set_visible(False)\n    ax.spines['right'].set_visible(False)\n    ax.set_ylabel('')\n    ax.set_xlabel('Average Happiness (0-10)')\n    ax.set_ylabel('Proportion of people')\n    ax.set_xticks(np.arange(0,11,step=1)) \n\n \nfig,(ax1,ax2)=plt.subplots(2,1)\nax1.hist(df[happiness_measure][didspend], np.arange(0.01,10.5,1), color='orange', edgecolor = 'black',linestyle='-',alpha=0.5, label='Spent on saving time', density=True,align='right')\nFormatFigure(ax1)\nax2.hist(df[happiness_measure][didntspend], np.arange(0.01,10.5,1), alpha=0.5, edgecolor = 'black', label='Did not spend on saving time',  density=True,align='right')\nFormatFigure(ax2)\n\nplt.show()"
      ]
    },
    {
      "cell_type": "markdown",
      "metadata": {},
      "source": [
        "What is most striking is how little these two histograms differ, \nwith those not spending money of time-saving shifted very slightly to the left. There are more \ntens in the did spend group, but otherwise they are not that different.\n\nIn the code below we pick pairs of people at random - one from thosee \nwho did spend on time-saving and one person who didn\u2019t spend on time-saving. We then look at\nthe proportion of times the one who did spend on time-saving is happier.\n\n"
      ]
    },
    {
      "cell_type": "code",
      "execution_count": null,
      "metadata": {
        "collapsed": false
      },
      "outputs": [],
      "source": [
        "df_did=df[happiness_measure][didspend]\ndf_didnt=df[happiness_measure][didntspend]\nrand_did=df_did.sample(10000,replace=True)\nrand_didnt=df_didnt.sample(10000,replace=True)\nprint('The person who did spend on time-saving is happiest %.2f percent of times.' % (np.mean(np.array(rand_did)>np.array(rand_didnt))*100))"
      ]
    },
    {
      "cell_type": "markdown",
      "metadata": {},
      "source": [
        "If you currently do not spend any of your budget on time-saving, \nthen this value of around 55% gives an estimate of the probability you would be happier\nif you did. Likewise, if you currently do spend some of your budget on time-saving, \nthen the probability you would be happier if you didn\u2019t make the spend is 45%. \n\nAnswer to first question: It makes sense to spend money \non time-saving, but results are by no means guaranteed.\n\n"
      ]
    },
    {
      "cell_type": "markdown",
      "metadata": {},
      "source": [
        "## What to spend money on\n\nHow much happier can we expect to be per dollar spent on, \nrespectively, material items, experiences and time-saving? \n\nTo answer this question, we plot average happiness against the\namount of money people spent. \n\n"
      ]
    },
    {
      "cell_type": "code",
      "execution_count": null,
      "metadata": {
        "collapsed": false
      },
      "outputs": [],
      "source": [
        "rcParams['figure.figsize'] = 14/2.54, 10/2.54\n\nfig,axs=plt.subplots(2,2)  \n\nfor i,original_name in enumerate(['MATA','EXPA','TSA','Bills']):\n    \n    mean_happy = np.zeros(len(scale_spending))*np.nan\n    std_happy = np.zeros(len(scale_spending))*np.nan\n    num_value = np.zeros(len(scale_spending))*np.nan\n\n    #Measure happiness for each \n    for j,lb in enumerate(np.unique(scale_spending)):\n        dfs=df[df['spent_on_' + original_name]==lb]\n        num_value[j]=len(dfs)\n        if len(dfs)>5:\n            mean_happy[j]=np.nanmean(dfs[happiness_measure])\n            std_happy[j]=np.nanstd(dfs[happiness_measure])/np.sqrt(len(dfs))\n            \n    ax=axs[int(np.ceil(i/2))-1][np.remainder(i,2)]    \n    \n    #Plot the graph.\n    ax.scatter(scale_spending, mean_happy,s=(num_value/4)+1)\n    print(mean_happy)\n    \n    ax.set_ylim(5,10) \n    ax.spines['top'].set_visible(False)\n    ax.spines['right'].set_visible(False)\n    if i==0:\n        ax.text(0,9,'Material purchases', fontsize=11)\n        ax.set_ylabel('Average Happiness')\n        ax.set_xlabel('Spent per month')\n    if i==1:\n        ax.text(0,9,'Experiences \\nand entertainment', fontsize=11) \n    if i==2:\n        ax.text(0,9,'Time saving \\nand eating out', fontsize=11)\n        ax.set_ylabel('Average Happiness')   \n    if i==3:\n        ax.text(0,9,'Paying bills', fontsize=11)\n        ax.set_xlabel('Spent per month')   \n    ax.set_xticks(np.arange(0,1100,step=250))\n    ax.set_xticklabels(['$0','$250','$500','$750','$1000+']) \n\nplt.show()"
      ]
    },
    {
      "cell_type": "markdown",
      "metadata": {},
      "source": [
        "We see that those with the most money to \nspend are the happiest. Those with expenditure of $1000 \nper month on each of material, experiences and time-saving have a happiness \nof around 8.5 on average. Paying bills does not make people happier.\n\n"
      ]
    },
    {
      "cell_type": "markdown",
      "metadata": {},
      "source": [
        "We would all love to have $1000 to \nspend on each of the three categories, but what is the best \ninvestment on a limited budget? \n\nHere it is important to notice that time-saving \nincreases slightly earlier per dollar spent than the \nlines for material purchases or experiences. We can estimate how \nmore rapid this increase is using linear \nregression, which measures the steepness of the increase for each factor.\n\n"
      ]
    },
    {
      "cell_type": "code",
      "execution_count": null,
      "metadata": {
        "collapsed": false
      },
      "outputs": [],
      "source": [
        "model_fit=smf.ols(formula=happiness_measure + ' ~  spent_on_MATA + spent_on_TSA + spent_on_EXPA + spent_on_Bills' , data=df).fit()\nprint(model_fit.summary()) \n\nprint('For every $100 spent per month on time saving, %.2f points of happiness gained' % (100.0*model_fit.params['spent_on_TSA']))\nprint('For every $100 spent per month on experiences, %.2f points of happiness gained' % (100.0*model_fit.params['spent_on_EXPA']))\nprint('For every $100 spent per month on material purchases, %.2f points of happiness gained' % (100.0*model_fit.params['spent_on_MATA']))"
      ]
    },
    {
      "cell_type": "markdown",
      "metadata": {},
      "source": [
        "This method tells us that for every $100 spent in different ways\nhow much happiness is gained.  \nSo, increasing spending from $0 per month to around $500 \nper month on saving time (if you have that money to spare)\nwould make you almost 0.13*5 = 0.65 point (on a scale of 0 to 10) happier. \n\n\nIn the book I write that \"[Antony] finds that every $100 spent on time-saving \nleads to an average gain of 0.31 points on the happiness scale. So, increasing \nspending from $0 per month to around $300 per month on saving time provides almost \none extra point of happiness. \"\n\nThis claim is based on a regression model that includes a non-linear term to capture the\nsaturation at high levels of spending. I repeat the regression with squared terms as follows.\n\n\n"
      ]
    },
    {
      "cell_type": "code",
      "execution_count": null,
      "metadata": {
        "collapsed": false
      },
      "outputs": [],
      "source": [
        "for original_name in ['MATA','Bills','TSA','EXPA']:\n    variable_of_interest='spent_on_' + original_name\n    df[variable_of_interest + '_2']=df[variable_of_interest]**2\n\nmodel_fit=smf.ols(formula=happiness_measure + ' ~  spent_on_MATA + spent_on_TSA + spent_on_EXPA + spent_on_MATA_2 + spent_on_TSA_2 + spent_on_EXPA_2' , data=df).fit()\nprint(model_fit.summary())"
      ]
    },
    {
      "cell_type": "markdown",
      "metadata": {},
      "source": [
        "Notice that spending time on time saving \nThis analysis is further supported by the following graph, \nwhich looks at how happiness depends on the proportion of \nmoney spent on saving time for people who spend more than $200\nper month on the three categories.\n\n"
      ]
    },
    {
      "cell_type": "code",
      "execution_count": null,
      "metadata": {
        "collapsed": false
      },
      "outputs": [],
      "source": [
        "df['Prop_TS']=df['spent_on_TSA']/(df['spent_on_MATA']+df['spent_on_TSA']+df['spent_on_EXPA'] )\ndf['Prop_EXP']=df['spent_on_EXPA']/(df['spent_on_MATA']+df['spent_on_TSA']+df['spent_on_EXPA'] )\ndf['Prop_MATA']=df['spent_on_MATA']/(df['spent_on_MATA']+df['spent_on_TSA']+df['spent_on_EXPA'] )\n\n\n\nrcParams['figure.figsize'] = 16/2.54, 10/2.54\n\nscale_of_interest=np.append(np.arange(0,0.71,0.1), 1.0)\nfig,axs=plt.subplots(1,3)\n\naxs[0].set_ylabel('Average Happiness (0-10)')\n    \nfor j,variable_of_interest in enumerate(['Prop_TS', 'Prop_EXP', 'Prop_MATA']):\n\n    ax=axs[j]\n    mean_happy = np.zeros(len(scale_of_interest)-1)\n    std_happy = np.zeros(len(scale_of_interest)-1)\n    num_value = np.zeros(len(scale_of_interest)-1)\n    for i,lb in enumerate(scale_of_interest[:-1]):\n        lbp1=scale_of_interest[i+1]\n        dfs=df[np.logical_and(df[variable_of_interest]>=lb,df[variable_of_interest]<lbp1)]\n        mean_happy[i]=np.mean(dfs[happiness_measure])\n        std_happy[i]=np.std(dfs[happiness_measure])/np.sqrt(len(dfs))\n        num_value[i]=len(dfs)\n        \n    ax.scatter(scale_of_interest[:-1], mean_happy,s=num_value)\n\n    ax.spines['top'].set_visible(False)\n    ax.spines['right'].set_visible(False)\n    ax.set_xlim(-0.05,0.75)\n    ax.set_ylim(6,9) \n        \n    \n    ax.set_xticks(np.arange(0,0.8,step=0.2))   \n    ax.set_xticklabels(['0%','20%','40%','60%'  ])   \n    \n    if j==2:\n        ax.text(0,8.3,'Material purchases', fontsize=11)    \n    if j==1:\n        ax.text(0,8.3,'Experiences \\nand entertainment', fontsize=11) \n        ax.set_xlabel('Percentage spending')\n        \n    if j==0:\n        ax.text(0,8.3,'Time saving \\nand eating out', fontsize=11)\n   \nplt.show()"
      ]
    },
    {
      "cell_type": "markdown",
      "metadata": {},
      "source": [
        "Happiness reaches a maximum at around 20% to 30% spending on time-saving\nand on experiences and entertainment. Using too much of your budget to\nbuy material items leads to a decrease in happiness.\n\nRemeber that the size of the circles are the proportion of people in that category\nWe can calulate\n\n"
      ]
    },
    {
      "cell_type": "code",
      "execution_count": null,
      "metadata": {
        "collapsed": false
      },
      "outputs": [],
      "source": [
        "print('The average person spend %.2f percent of their budget on time saving' % (100.0*np.mean(df['Prop_TS'])))\nprint('The average person spend %.2f percent of their budget on experiences' % (100.0*np.mean(df['Prop_EXP'])))\nprint('The average person spend %.2f percent of their budget on material purchases' % (100.0*np.mean(df['Prop_MATA'])))"
      ]
    },
    {
      "cell_type": "markdown",
      "metadata": {},
      "source": [
        "This uggests that most of us could benefit from increasing our \nspending on time saving.\n\n**Summary:** If you currently spend very little on money on \ntime-saving today then investing between $100 and $300 \ncan probably make you a fair bit happier. Spending on \nexperiences is less effective, and spending on \nmaterial purchases is not effective. \n\n"
      ]
    },
    {
      "cell_type": "markdown",
      "metadata": {},
      "source": [
        "Causation \n---------\u2003\n\nFourth question: can we say that time-saving purchases \ncause us to become happier? And, if so, what should I buy!?!?\n\nThe researchers responsible for this study conducted an experiment. \nThey recruited people at a science fair, giving them $40 one week to \nmake a time-saving purchase and $40 another week (either before or after) \nto make a material purchase. Below is a plot of what they bought on each \noccasion (material left, time-saving right) and the difference in \nhappiness they reported each time.\n\n"
      ]
    },
    {
      "cell_type": "code",
      "execution_count": null,
      "metadata": {
        "collapsed": false
      },
      "outputs": [],
      "source": [
        "rcParams['figure.figsize'] = 16/2.54, 35/2.54\nfig,ax=plt.subplots(num=1)\n\ndf=pd.read_csv(\"../data/happy_buy.csv\",sep=';')\n\nnp.sum(df['TP_BAL']-df['MAT_BAL']>0)\nnp.sum(df['TP_PA']-df['MAT_PA']>0)\nnp.sum(df['TP_NA']-df['MAT_NA']>0)\nnp.sum(df['TP_TP']-df['MAT_TP']>0)\n\ndf['DIFF_PA']=  df['TP_PA']-df['MAT_PA']\ndf=df.sort_values('DIFF_PA')\n\ni=0\nfor di in df.iterrows():\n    \n    i=i+1 \n    d=di[1]\n    cl='orange'\n        \n    ax.plot([0,d['TP_PA']-d['MAT_PA']],[i,i], linestyle='solid', markersize=4, marker='o', color=cl)\n    if (d['TP_PA'] > d['MAT_PA']):\n        ax.text(d['TP_PA']-d['MAT_PA']+0.1,i-0.25, d['TS_Purchase'] , color='black' )\n        ax.text(0-0.1,i-0.25, d['MAT_Item_1'], ha='right' , color='black')\n    else:\n        ax.text(d['TP_PA']-d['MAT_PA']-0.1,i-0.25, d['MAT_Item_1'], ha='right' , color='black' )\n        ax.text(0+0.1,i-0.25, d['TS_Purchase'] , color='black' )\n\nax.set_yticks([-10,100])\nax.set_ylim(0,61) \nax.set_xlim(-2,4) \nax.spines['top'].set_visible(False)\nax.spines['right'].set_visible(False)\nax.spines['left'].set_visible(False)\nax.set_xlabel('Happiness difference (scale 0-5)')\nplt.show()\n\nnp.sum(df['DIFF_PA']>0.2)\nnp.sum(df['DIFF_PA']<-0.2)"
      ]
    },
    {
      "cell_type": "markdown",
      "metadata": {},
      "source": [
        "Answer to fourth question: Again, there are no guarantees that eating \nout or getting a babysitter will make you happy, but it worked for 26 \nout of the 60 people participating in the study, with only 14 being \nhappier with a material purchase. \n"
      ]
    }
  ],
  "metadata": {
    "kernelspec": {
      "display_name": "Python 3",
      "language": "python",
      "name": "python3"
    },
    "language_info": {
      "codemirror_mode": {
        "name": "ipython",
        "version": 3
      },
      "file_extension": ".py",
      "mimetype": "text/x-python",
      "name": "python",
      "nbconvert_exporter": "python",
      "pygments_lexer": "ipython3",
      "version": "3.10.4"
    }
  },
  "nbformat": 4,
  "nbformat_minor": 0
}