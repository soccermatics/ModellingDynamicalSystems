{
  "cells": [
    {
      "cell_type": "code",
      "execution_count": null,
      "metadata": {
        "collapsed": false
      },
      "outputs": [],
      "source": [
        "%matplotlib inline"
      ]
    },
    {
      "cell_type": "markdown",
      "metadata": {},
      "source": [
        "\n# Single variable model\n\n## Plotting the data\n\nWe now plot how child mortality has changed in four countries (Sweden,\nUSA, Uganda and China).\n\nIn order look at other countries you can find their codes by looking\nhere [here](https://databank.worldbank.org/country) and clicking on the country and\nthen clicking on (i) to see country code.\n"
      ]
    },
    {
      "cell_type": "code",
      "execution_count": null,
      "metadata": {
        "collapsed": false
      },
      "outputs": [],
      "source": [
        "#Import libraries\n#Plotting \nimport matplotlib as mpl\nimport matplotlib.pyplot as plt\nimport pandas as pd\nimport numpy as np\n\n#Import machine learning tools (for linear regression)\nimport sklearn.linear_model as skl_lm\nimport itertools\nimport math\n\ndf = pd.read_csv('../data/CM_GDP.csv')\n\ncountries=['SWE','USA','CHN','UGA']\ncountry_colour_dict= {\n  \"USA\": \"blue\",\n  \"CHN\": \"red\",\n  \"SWE\": \"yellow\",\n  \"UGA\": \"black\",\n  \"AFG\": \"green\"\n}\n\nfig,ax=plt.subplots(num=1)\nfor country in countries:\n    df_country=df.loc[df['Country'] == country]\n\n    years=np.array(df_country['Year']).astype('int32')\n    ax.plot(years,df_country['Child Mortality'],linestyle='none', color =country_colour_dict[country], markersize=3, marker='o',label=country)\nax.legend()\nax.set_xticks(np.arange(1960,2030,step=10))\nax.set_yticks(np.arange(0,225,step=25))\nax.set_ylabel('Child Mortality (per 1000 births)')\nax.set_xlabel('Year (k)')\nax.spines['top'].set_visible(False)\nax.spines['right'].set_visible(False)\nax.set_xlim(1960,2030)\nax.set_ylim(0,201) \n\nplt.show()"
      ]
    },
    {
      "cell_type": "markdown",
      "metadata": {},
      "source": [
        "## Fitting a model to child mortality\n\nNow we fit a linear regression model\n\n\\begin{align}y(k) = C(k+1) - C(k) = a + b_0 C(k) + b_1 C(k)^2 + b_2 C(k)^3 + \\epsilon, \\qquad \\epsilon \\sim \\mathcal{N}(0, \\sigma^2)\\end{align}\n\nto describe the change in child mortality from one year to the next.\n\nTo do this we use scikitlearn library in Python.\n\n"
      ]
    },
    {
      "cell_type": "code",
      "execution_count": null,
      "metadata": {
        "collapsed": false
      },
      "outputs": [],
      "source": [
        "#Create the variables\ndf['C2'] = df['Child Mortality']**2\ndf['C3'] = df['Child Mortality']**3\nX_train = df[['Child Mortality','C2','C3']]\ny_train = df['Diff CM']\nmodel = skl_lm.LinearRegression(fit_intercept=True)\nmodel.fit(X_train, y_train)\n# Print the coefficients\nprint('The coefficients are:', model.coef_)\nprint(f'The intercept is: {model.intercept_:.3f}')\nb = model.coef_\na=model.intercept_"
      ]
    },
    {
      "cell_type": "markdown",
      "metadata": {},
      "source": [
        "We can now plot the fitted model on the same plot as the data.\n\n"
      ]
    },
    {
      "cell_type": "code",
      "execution_count": null,
      "metadata": {
        "collapsed": false
      },
      "outputs": [],
      "source": [
        "C = np.arange(0,200,0.1)\ndC = a + b[0] * C + b[1]*C**2 + b[2]*C**3\n\n#Make the plot\nfig,ax=plt.subplots(num=1)\nax.plot(df['Child Mortality'],df['Diff CM'],linestyle='none', markersize=1,color='grey',marker='.')\nax.plot(C,dC,linewidth=2)\nax.plot([0 ,200],[0, 0],linestyle=':',color='black')\nax.set_yticks(np.arange(-5,0.5,step=1))\nax.set_xticks(np.arange(0,225,step=25))\nax.set_ylabel('$C(k+1)-C(k)$')\nax.set_xlabel('Child mortality: $C(k)$')\nax.spines['top'].set_visible(False)\nax.spines['right'].set_visible(False)\nax.set_xlim(0,201) \nax.set_ylim(-5,0.5) \nplt.show()"
      ]
    },
    {
      "cell_type": "markdown",
      "metadata": {},
      "source": [
        "Predict future evoltion of child mortality\n\n\n"
      ]
    },
    {
      "cell_type": "code",
      "execution_count": null,
      "metadata": {
        "collapsed": false
      },
      "outputs": [],
      "source": [
        "fig,ax=plt.subplots(num=1)\nfor country in countries:\n    df_country=df.loc[df['Country'] == country]\n\n    years=np.array(df_country['Year']).astype('int32')\n    ax.plot(years,df_country['Child Mortality'],linestyle='none', color =country_colour_dict[country], markersize=3, marker='o',label=country)\n  \n    numyears=20\n    future_CM=np.zeros(numyears)\n    future_CM[0]=df_country['Child Mortality'][-1:]\n    \n    \n    for t in range(numyears-1):\n        future_CM[t+1]=future_CM[t]+ a + b[0] * future_CM[t] + b[1]*future_CM[t]**2 + b[2]*future_CM[t]**3\n    \n    ax.plot(int(df_country['Year'][-1:])+np.arange(numyears),future_CM, color =country_colour_dict[country],linestyle='-',label=country)\nax.legend()\nax.set_xticks(np.arange(1960,2045,step=10))\nax.set_yticks(np.arange(0,225,step=25))\nax.set_ylabel('Child Mortality (per 1000 births)')\nax.set_xlabel('Year (t)')\nax.spines['top'].set_visible(False)\nax.spines['right'].set_visible(False)\nax.set_xlim(1960,2040)\nax.set_ylim(0,201)   \nplt.show()"
      ]
    }
  ],
  "metadata": {
    "kernelspec": {
      "display_name": "Python 3",
      "language": "python",
      "name": "python3"
    },
    "language_info": {
      "codemirror_mode": {
        "name": "ipython",
        "version": 3
      },
      "file_extension": ".py",
      "mimetype": "text/x-python",
      "name": "python",
      "nbconvert_exporter": "python",
      "pygments_lexer": "ipython3",
      "version": "3.10.4"
    }
  },
  "nbformat": 4,
  "nbformat_minor": 0
}