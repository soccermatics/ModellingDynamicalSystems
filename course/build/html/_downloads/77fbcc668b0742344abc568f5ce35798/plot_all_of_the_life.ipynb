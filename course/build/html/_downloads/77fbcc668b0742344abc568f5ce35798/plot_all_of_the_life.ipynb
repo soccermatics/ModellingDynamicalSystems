{
  "cells": [
    {
      "cell_type": "code",
      "execution_count": null,
      "metadata": {
        "collapsed": false
      },
      "outputs": [],
      "source": [
        "%matplotlib inline"
      ]
    },
    {
      "cell_type": "markdown",
      "metadata": {},
      "source": [
        "\n# All of the life\n"
      ]
    },
    {
      "cell_type": "code",
      "execution_count": null,
      "metadata": {
        "collapsed": false
      },
      "outputs": [],
      "source": [
        "import numpy as np\nfrom termcolor import colored\nfrom time import sleep\nimport numpy as np\nimport pandas as pd\nimport matplotlib.pyplot as plt\nfrom pylab import rcParams\nrcParams['figure.figsize'] = 12/2.54, 2/2.54"
      ]
    },
    {
      "cell_type": "markdown",
      "metadata": {},
      "source": [
        "This code is adapted from an implentation by Romain Fontaine (Copyright 2018)\n\nFirst we set up functions which allow us to run sellular automata.\n\n"
      ]
    },
    {
      "cell_type": "code",
      "execution_count": null,
      "metadata": {
        "collapsed": false
      },
      "outputs": [],
      "source": [
        "def show_grid(ax,grid):\n        ax.imshow(grid, cmap=plt.get_cmap('Blues'), interpolation='nearest')\n        ax.spines['top'].set_visible(False)\n        ax.spines['right'].set_visible(False)\n        ax.spines['left'].set_visible(False)\n        ax.spines['bottom'].set_visible(False)\n        ax.set_ylim(0,N)\n        ax.set_xlim(0,N)\n        ax.set_xticks([])\n        ax.set_yticks([])\n        ax.axis('equal')\n        \n\t\ndef iterate(new_grid):\n\tfor i in range(N):\n\t\tfor j in range(N):\n\t\t\tnew_grid[i,j]=new_value(i, j)\n\treturn new_grid, grid"
      ]
    },
    {
      "cell_type": "markdown",
      "metadata": {},
      "source": [
        "## Game Of Life\n\nNow we set up the cellular automata \n\n\n"
      ]
    },
    {
      "cell_type": "code",
      "execution_count": null,
      "metadata": {
        "collapsed": false
      },
      "outputs": [],
      "source": [
        "def new_value(i, j):\n\t\n    neighbours = grid[i, (j-1)%N] + grid[i, (j+1)%N] + grid[(i-1)%N, j] + grid[(i+1)%N, j] +grid[(i-1)%N, (j-1)%N] + grid[(i-1)%N, (j+1)%N] + grid[(i+1)%N, (j-1)%N] + grid[(i+1)%N, (j+1)%N]\n    \n    # Apply rules\n    if grid[i, j]  == 1:\n        if (neighbours < 2) | (neighbours > 3):\n            return 0\n    else:\n        if neighbours == 3:\n            return 1\n    return grid[i, j]"
      ]
    },
    {
      "cell_type": "markdown",
      "metadata": {},
      "source": [
        "Now we set up the initial shape the model printing out every step\n\n\n"
      ]
    },
    {
      "cell_type": "code",
      "execution_count": null,
      "metadata": {
        "collapsed": false
      },
      "outputs": [],
      "source": [
        "def initialize():\n    init_pattern = [\"111\",\n\t\t\t\"001\",\n\t\t\t\"010\"]\n    for i, line in enumerate(init_pattern):\n\t    for j, char in enumerate(line):\n\t\t    grid[i+int(N/2)-2, j+int(N/2)-2] = int(char)\n\nN=8\nSTEPS = 10\n\ngrid = np.zeros((N, N), dtype=\"int\")\nnew_grid = np.zeros((N, N), dtype=\"int\")\ninitialize()"
      ]
    },
    {
      "cell_type": "markdown",
      "metadata": {},
      "source": [
        "Now simulate\n\n\n"
      ]
    },
    {
      "cell_type": "code",
      "execution_count": null,
      "metadata": {
        "collapsed": false
      },
      "outputs": [],
      "source": [
        "fig,axs=plt.subplots(1,STEPS)\nfor step in range(STEPS):\n    grid, new_grid = iterate(new_grid) # Iterate & swap the two grids\n    show_grid(axs[step],new_grid)\n    \nplt.show()\n\n\n\n\n# CODE FOR ANIMATING\n# set up animation\n#    fig, ax = plt.subplots()\n#    img = ax.imshow(grid, interpolation='nearest')\n#    ani = animation.FuncAnimation(fig, update, fargs=(img, grid, N, ),\n#                                  frames = 10,\n#                                  interval=updateInterval,\n#                                  save_count=50)\n# \n#    # # of frames?\n#    # set output file\n#    if args.movfile:\n#        ani.save(args.movfile, fps=30, extra_args=['-vcodec', 'libx264'])"
      ]
    },
    {
      "cell_type": "markdown",
      "metadata": {},
      "source": [
        "## Langton's Loop\n\nNow we set up the cellular automata \n\n\n"
      ]
    },
    {
      "cell_type": "code",
      "execution_count": null,
      "metadata": {
        "collapsed": false
      },
      "outputs": [],
      "source": [
        "N = 120\nSTEPS = 800\n\ndef initialize():\n\tinit_pattern = [\"02222222200000\",\n\t\t\t\"21701401420000\",\n\t\t\t\"20222222020000\",\n\t\t\t\"27200002120000\",\n\t\t\t\"21200002120000\",\n\t\t\t\"20200002120000\",\n\t\t\t\"27200002120000\",\n\t\t\t\"21222222122222\",\n\t\t\t\"20710710711111\",\n\t\t\t\"02222222222222\"]\n\tfor i, line in enumerate(init_pattern):\n\t\tfor j, char in enumerate(line):\n\t\t\tgrid[i+int(N/2)-5, j+int(N/2)-15] = int(char)"
      ]
    },
    {
      "cell_type": "markdown",
      "metadata": {},
      "source": [
        "And set up the rules and a function which applies them.\n\n"
      ]
    },
    {
      "cell_type": "code",
      "execution_count": null,
      "metadata": {
        "collapsed": false
      },
      "outputs": [],
      "source": [
        "rules = { # format: \"CNESW\":\"C\"\n\t\"00000\":\"0\",\"00001\":\"2\",\"00002\":\"0\",\"00003\":\"0\",\"00005\":\"0\",\"00006\":\"3\",\"00007\":\"1\",\"00011\":\"2\",\"00012\":\"2\",\"00013\":\"2\",\"00021\":\"2\",\n\t\"00022\":\"0\",\"00023\":\"0\",\"00026\":\"2\",\"00027\":\"2\",\"00032\":\"0\",\"00052\":\"5\",\"00062\":\"2\",\"00072\":\"2\",\"00102\":\"2\",\"00112\":\"0\",\n\t\"00202\":\"0\",\"00203\":\"0\",\"00205\":\"0\",\"00212\":\"5\",\"00222\":\"0\",\"00232\":\"2\",\"00522\":\"2\",\"01232\":\"1\",\"01242\":\"1\",\"01252\":\"5\",\n\t\"01262\":\"1\",\"01272\":\"1\",\"01275\":\"1\",\"01422\":\"1\",\"01432\":\"1\",\"01442\":\"1\",\"01472\":\"1\",\"01625\":\"1\",\"01722\":\"1\",\n\t\"01725\":\"5\",\"01752\":\"1\",\"01762\":\"1\",\"01772\":\"1\",\"02527\":\"1\",\"10001\":\"1\",\"10006\":\"1\",\"10007\":\"7\",\"10011\":\"1\",\"10012\":\"1\",\n\t\"10021\":\"1\",\"10024\":\"4\",\"10027\":\"7\",\"10051\":\"1\",\"10101\":\"1\",\"10111\":\"1\",\"10124\":\"4\",\"10127\":\"7\",\"10202\":\"6\",\n\t\"10212\":\"1\",\"10221\":\"1\",\"10224\":\"4\",\"10226\":\"3\",\"10227\":\"7\",\"10232\":\"7\",\"10242\":\"4\",\"10262\":\"6\",\"10264\":\"4\",\n\t\"10267\":\"7\",\"10271\":\"0\",\"10272\":\"7\",\"10542\":\"7\",\"11112\":\"1\",\"11122\":\"1\",\"11124\":\"4\",\"11125\":\"1\",\"11126\":\"1\",\n\t\"11127\":\"7\",\"11152\":\"2\",\"11212\":\"1\",\"11222\":\"1\",\"11224\":\"4\",\"11225\":\"1\",\"11227\":\"7\",\"11232\":\"1\",\"11242\":\"4\",\n\t\"11262\":\"1\",\"11272\":\"7\",\"11322\":\"1\",\"12224\":\"4\",\"12227\":\"7\",\"12243\":\"4\",\"12254\":\"7\",\"12324\":\"4\",\"12327\":\"7\",\n\t\"12425\":\"5\",\"12426\":\"7\",\"12527\":\"5\",\"20001\":\"2\",\"20002\":\"2\",\"20004\":\"2\",\"20007\":\"1\",\"20012\":\"2\",\"20015\":\"2\",\n\t\"20021\":\"2\",\"20022\":\"2\",\"20023\":\"2\",\"20024\":\"2\",\"20025\":\"0\",\"20026\":\"2\",\"20027\":\"2\",\"20032\":\"6\",\"20042\":\"3\",\n\t\"20051\":\"7\",\"20052\":\"2\",\"20057\":\"5\",\"20072\":\"2\",\"20102\":\"2\",\"20112\":\"2\",\"20122\":\"2\",\"20142\":\"2\",\"20172\":\"2\",\n\t\"20202\":\"2\",\"20203\":\"2\",\"20205\":\"2\",\"20207\":\"3\",\"20212\":\"2\",\"20215\":\"2\",\"20221\":\"2\",\"20222\":\"2\",\"20227\":\"2\",\n\t\"20232\":\"1\",\"20242\":\"2\",\"20245\":\"2\",\"20252\":\"0\",\"20255\":\"2\",\"20262\":\"2\",\"20272\":\"2\",\"20312\":\"2\",\"20321\":\"6\",\n\t\"20322\":\"6\",\"20342\":\"2\",\"20422\":\"2\",\"20512\":\"2\",\"20521\":\"2\",\"20522\":\"2\",\"20552\":\"1\",\"20572\":\"5\",\"20622\":\"2\",\n\t\"20672\":\"2\",\"20712\":\"2\",\"20722\":\"2\",\"20742\":\"2\",\"20772\":\"2\",\"21122\":\"2\",\"21126\":\"1\",\n\t\"21222\":\"2\",\"21224\":\"2\",\"21226\":\"2\",\"21227\":\"2\",\"21422\":\"2\",\"21522\":\"2\",\"21622\":\"2\",\"21722\":\"2\",\"22227\":\"2\",\"22244\":\"2\",\n\t\"22246\":\"2\",\"22276\":\"2\",\"22277\":\"2\",\"30001\":\"3\",\"30002\":\"2\",\"30004\":\"1\",\"30007\":\"6\",\"30012\":\"3\",\"30042\":\"1\",\n\t\"30062\":\"2\",\"30102\":\"1\",\"30122\":\"0\",\"30251\":\"1\",\"40112\":\"0\",\"40122\":\"0\",\"40125\":\"0\",\"40212\":\"0\",\"40222\":\"1\",\n\t\"40232\":\"6\",\"40252\":\"0\",\"40322\":\"1\",\"50002\":\"2\",\"50021\":\"5\",\"50022\":\"5\",\"50023\":\"2\",\"50027\":\"2\",\"50052\":\"0\",\n\t\"50202\":\"2\",\"50212\":\"2\",\"50215\":\"2\",\"50222\":\"0\",\"50224\":\"4\",\"50272\":\"2\",\"51212\":\"2\",\"51222\":\"0\",\"51242\":\"2\",\"51272\":\"2\",\n\t\"60001\":\"1\",\"60002\":\"1\",\"60212\":\"0\",\"61212\":\"5\",\"61213\":\"1\",\"61222\":\"5\",\"70007\":\"7\",\n\t\"70112\":\"0\",\"70122\":\"0\",\"70125\":\"0\",\"70212\":\"0\",\"70222\":\"1\",\"70225\":\"1\",\"70232\":\"1\",\"70252\":\"5\",\"70272\":\"0\"\n}\n\ndef new_value(i, j):\n\tc = str(grid[i, j])\n\ta = [str(grid[(i-1)%N, j]), str(grid[i, (j+1)%N]), str(grid[(i+1)%N, j]), str(grid[i, (j-1)%N])]\n\tfor i in range(4): # Try every rotation of this array: [TOP, RIGHT, BOTTOM, LEFT]\n\t\ttry:\n\t\t\treturn rules[\"\".join([c, a[i%4], a[(i+1)%4], a[(i+2)%4], a[(i+3)%4]])]\n\t\texcept KeyError:\n\t\t\tpass\n\treturn grid[i, j] # if no rule is found, return the previous value"
      ]
    },
    {
      "cell_type": "markdown",
      "metadata": {},
      "source": [
        "Now we simulate the model printing out every 50th step\n\n\n"
      ]
    },
    {
      "cell_type": "code",
      "execution_count": null,
      "metadata": {
        "collapsed": false
      },
      "outputs": [],
      "source": [
        "grid = np.zeros((N,N), dtype=\"int\")\nnew_grid = np.zeros((N,N), dtype=\"int\")\nrcParams['figure.figsize'] = 20/2.54, 20/2.54\ninitialize()\nfig,axs=plt.subplots(4,4)\ncount=0\ncount2=0\nfor i in range(STEPS):\n    grid, new_grid = iterate(new_grid) # Iterate & swap the two grids\n    if (np.mod(i,50)==0):\n        show_grid(axs[count][count2],new_grid)\n        count=count+1\n        if count>=4:\n            count2=count2+1\n            count=0\n        \nplt.show()"
      ]
    }
  ],
  "metadata": {
    "kernelspec": {
      "display_name": "Python 3",
      "language": "python",
      "name": "python3"
    },
    "language_info": {
      "codemirror_mode": {
        "name": "ipython",
        "version": 3
      },
      "file_extension": ".py",
      "mimetype": "text/x-python",
      "name": "python",
      "nbconvert_exporter": "python",
      "pygments_lexer": "ipython3",
      "version": "3.10.4"
    }
  },
  "nbformat": 4,
  "nbformat_minor": 0
}