{
  "cells": [
    {
      "cell_type": "code",
      "execution_count": null,
      "metadata": {
        "collapsed": false
      },
      "outputs": [],
      "source": [
        "%matplotlib inline"
      ]
    },
    {
      "cell_type": "markdown",
      "metadata": {},
      "source": [
        "\n\n# Hawk-dove dynamics\n\n## The model\n\nOn the previous page we saw that a model for the number of co-operators in the\nHawk-Dove game is.\n\n\\begin{align}:label: repeqsim\n\n  \\frac{dx}{dt} = f(x) = \\frac{1}{4} x (1-x) (1 - 2x)\\end{align}\n\nWe start by importing the libraries we need.\n"
      ]
    },
    {
      "cell_type": "code",
      "execution_count": null,
      "metadata": {
        "collapsed": false
      },
      "outputs": [],
      "source": [
        "import numpy as np\nimport matplotlib.pyplot as plt\nimport matplotlib\nfrom pylab import rcParams\nmatplotlib.font_manager.FontProperties(family='Helvetica',size=11)\nrcParams['figure.figsize'] = 14/2.54, 12/2.54\nfrom scipy import integrate"
      ]
    },
    {
      "cell_type": "markdown",
      "metadata": {},
      "source": [
        "Now we define the model. This code creates a function \nwhich we can use to simulate differential equation :eq:`repeqsim`. \n\n"
      ]
    },
    {
      "cell_type": "code",
      "execution_count": null,
      "metadata": {
        "collapsed": false
      },
      "outputs": [],
      "source": [
        "# Differential equation\ndef dXdt(X, t=0):\n    # Replicator equation\n    return np.array([ X[0]*(1-X[0])*(1-2*X[0])/4])"
      ]
    },
    {
      "cell_type": "markdown",
      "metadata": {},
      "source": [
        "We solve the equations numerically and plot solution over time. \n\n\n"
      ]
    },
    {
      "cell_type": "code",
      "execution_count": null,
      "metadata": {
        "collapsed": false
      },
      "outputs": [],
      "source": [
        "def plotOverTime(ax,X):\n    ax.plot(t, X, '-',color='k', label='Co-operators (x)')\n    ax.plot(t, 1-X, ':',color='k', label='Defectors (x)')\n    ax.legend(loc='best')\n    ax.set_xlabel('Time: t')\n    ax.set_ylabel('Population')\n    ax.spines['top'].set_visible(False)\n    ax.spines['right'].set_visible(False)\n    ax.set_xticks(np.arange(0,31,step=5))\n    ax.set_yticks(np.arange(0,1.01,step=0.5))\n    ax.set_xlim(0,30)\n    ax.set_ylim(0,1) \n    \n\nt = np.linspace(0, 30,  1000)       # time\nX0 = np.array([0.1])                # initially 10% are co-operators\nX = integrate.odeint(dXdt, X0, t)   # uses a Python package to simulate the interactions\nfig,ax=plt.subplots(num=1)\nplotOverTime(ax,X)\nplt.show()"
      ]
    },
    {
      "cell_type": "markdown",
      "metadata": {},
      "source": [
        "## Rate of change\n\nIn order to understand how the change in co-operators depends on the \ncurrent proportion of co-operators we plot equation eq:`repeqsim`\nas a function of $x$ as follows.\n\n"
      ]
    },
    {
      "cell_type": "code",
      "execution_count": null,
      "metadata": {
        "collapsed": false
      },
      "outputs": [],
      "source": [
        "def plotChange(ax):\n    xx=np.linspace(0, 30,  1000)  \n    dx = np.array([dXdt([xi]) for xi in xx])\n    \n    ax.plot(xx ,dx, '-',color='k')\n    ax.set_xlabel('Proportion co-operators: $x$')\n    ax.set_ylabel('Change in co-operators: $dx/dt=f(x)$')\n    ax.spines['top'].set_visible(False)\n    ax.spines['right'].set_visible(False)\n    ax.set_yticks(np.arange(-0.05,0.051,step=0.02))\n    ax.set_xticks(np.arange(0,1.01,step=0.2))\n    ax.set_ylim(-0.05,0.05)   \n    ax.set_xlim(0,1) \n\ndef drawArrows(ax,dXdt):\n    x = np.linspace(0.05, 1 ,6)\n    y = [0]\n    X , Y  = np.meshgrid(x, y)\n    dX = dXdt(X) \n    dY =np.zeros(len(dX))\n    ax.quiver(X, Y, dX, dY, pivot='mid', width=0.03)\n    ax.plot([0,1],[0,0],'k:')\n\nfig,ax=plt.subplots(num=1)\nplotChange(ax)\ndrawArrows(ax,dXdt)\nplt.show()"
      ]
    },
    {
      "cell_type": "markdown",
      "metadata": {},
      "source": [
        "## Steady states\n\nThe steady states are the points where $f(x_*)=0$. We can find them \nnumerically using Python as follows.\n\n\n"
      ]
    },
    {
      "cell_type": "code",
      "execution_count": null,
      "metadata": {
        "collapsed": false
      },
      "outputs": [],
      "source": [
        "from scipy.optimize import fsolve\nx_s=np.zeros(3)\nx_initial=[0.1, 0.74, 0.9]\nfor i,x_i in enumerate(x_initial):\n    x_s[i]=fsolve(dXdt, (x_i))\n    print('Starting with value %.2f gives steady state %.2f'%(x_i,x_s[i]))"
      ]
    },
    {
      "cell_type": "markdown",
      "metadata": {},
      "source": [
        "The solution we find depends on the starting position. Here\nwe chose values we knew were nearby in order to be sure that we found them. \n\n## Stability\n\nOn the previous page, we saw that the derivative of $f(x)$ (equation :eq:`repeqsim`) \nwith respect to $x$ is\n\n\\begin{align}f'(x) = \\frac{1}{4} \\left((1-2x)^2 - 2x(1-x) \\right)\\end{align}\n\n\nWe can evaluate the steady states we found using this derivative to determine their stability.\n\n"
      ]
    },
    {
      "cell_type": "code",
      "execution_count": null,
      "metadata": {
        "collapsed": false
      },
      "outputs": [],
      "source": [
        "def dfdx(x):\n    # Replicator equation\n    return 1/4*((1-2*x) - 2*x*(1-x))\n \nfor x in x_s:\n    dfx=dfdx(x)\n    if (dfx>0):\n        print(\"Steady state %.2f is unstable (f'(x)= %.4f)\"%(x,dfx))\n    elif (dfx<0):\n        print(\"Steady state %.2f is stable (f'(x)= %.4f)\"%(x,dfx))"
      ]
    }
  ],
  "metadata": {
    "kernelspec": {
      "display_name": "Python 3",
      "language": "python",
      "name": "python3"
    },
    "language_info": {
      "codemirror_mode": {
        "name": "ipython",
        "version": 3
      },
      "file_extension": ".py",
      "mimetype": "text/x-python",
      "name": "python",
      "nbconvert_exporter": "python",
      "pygments_lexer": "ipython3",
      "version": "3.10.4"
    }
  },
  "nbformat": 4,
  "nbformat_minor": 0
}