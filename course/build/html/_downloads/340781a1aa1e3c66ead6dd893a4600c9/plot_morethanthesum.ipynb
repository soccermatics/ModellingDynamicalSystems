{
  "cells": [
    {
      "cell_type": "code",
      "execution_count": null,
      "metadata": {
        "collapsed": false
      },
      "outputs": [],
      "source": [
        "%matplotlib inline"
      ]
    },
    {
      "cell_type": "markdown",
      "metadata": {},
      "source": [
        "\n\n# More than the sum of its parts\n\nFROM BOOK\n\n## The model\n \nIn terms of differential equations, the rate of change of susceptible individuals is\n\n\\begin{align}:label: susc\\end{align}\n \n   \\frac{dL}{dt} = \\underbrace{-b L F^2 }_{\\mbox{L} + \\mbox{2F} \\xrightarrow{b} \\mbox{3F}}\n\nand the rate of change of infectives is \n\n\\begin{align}:label: infect\\end{align}\n \n   \\frac{dF}{dt} = \\underbrace{-b L F^2 }_{\\mbox{L} + \\mbox{2F} \\xrightarrow{b} \\mbox{3F}} - \\underbrace{c F }_{\\mbox{F} \\xrightarrow{c} \\mbox{R}} \n\nThe constant $b$ is the rate of contact between people and $c$ is the rate of recovery.\nWe can also write down an equation for recovery as follows,\n\n\\begin{align}:label: recover\\end{align}\n \n   \\frac{dR}{dt} = \\underbrace{c F }_{\\mbox{F} \\xrightarrow{c} \\mbox{R}} \n\nIn this model $L$, $F$ and $R$ are proportions of the population. Summing them up gives $L+F+R=1$, since \neveryone in the popultaion is either susceptible, infective or recovered.\n\nLet's now solve these equations numerically. We start by importing the libraries we need from Python.\n"
      ]
    },
    {
      "cell_type": "code",
      "execution_count": null,
      "metadata": {
        "collapsed": false
      },
      "outputs": [],
      "source": [
        "import numpy as np\nimport matplotlib.pyplot as plt\nimport matplotlib\nfrom pylab import rcParams\nmatplotlib.font_manager.FontProperties(family='Helvetica',size=11)\nrcParams['figure.figsize'] = 14/2.54, 7/2.54\nfrom scipy import integrate\n\n\nb=8\nc = 0.4\n\ndef dXdt(X, t=0):\n   return np.array([  - b*X[0]*X[1]*X[1] ,           #LookingX[0] is L\n                      + b*X[0]*X[1]*X[1]  - c*X[1] , #Found Food X[1] is F\n                        c*X[1]])                     #Resting X[2] is R\n\ndef plotOverTime(ax,F,linetype):\n    ax.plot(t, F  , linetype,color='k')\n    ax.set_xlabel('Time: t')\n    ax.set_ylabel('Found Food: F')\n    ax.spines['top'].set_visible(False)\n    ax.spines['right'].set_visible(False)\n    ax.set_xticks(np.arange(0,20,step=2))\n    ax.set_yticks(np.arange(0,1.01,step=0.5))\n    ax.set_xlim(0,20)\n    ax.set_ylim(0,1) \n    \nt = np.linspace(0, 20,  1000)         # time\nX0 = np.array([0.9, 0.1,0.0000])      # initially 10% have found food\nX = integrate.odeint(dXdt, X0, t)     # uses a Python package to simulate the interactions\nL, F, R = X.T\nfig,ax=plt.subplots(1)\nplotOverTime(ax,F,'-')\nplt.show()"
      ]
    },
    {
      "cell_type": "markdown",
      "metadata": {},
      "source": [
        "We can find\nthe equilibria where the rate at which people become infected equals the \nrate at which they recover by solving\n\n\\begin{align}\\frac{dI}{dt} = b S I^2 - c I = 0\\end{align}\n\nThis occurs either when $I=0$ (no ants have found the food) or \nwhen \n\n\\begin{align}S = \\frac{c}{bI}\\end{align}\n\n\n"
      ]
    },
    {
      "cell_type": "code",
      "execution_count": null,
      "metadata": {
        "collapsed": false
      },
      "outputs": [],
      "source": [
        "def plotPhasePlane(ax,L,F,linetype):\n    ax.plot(L, F, linetype,color='k')\n    ax.set_xlabel('Looking: S')\n    ax.set_ylabel('Found Food: F')\n    ax.spines['top'].set_visible(False)\n    ax.spines['right'].set_visible(False)\n    ax.set_xticks(np.arange(0,1.01,step=0.5))\n    ax.set_yticks(np.arange(0,1.01,step=0.5))\n    ax.set_ylim(-0.05,1)   \n    ax.set_xlim(-0.05,1) \n\ndef drawArrows(ax,dXdt):\n    x = np.linspace(0.05, 1 ,6)\n    y = np.linspace(0.05, 1, 6)\n    X , Y  = np.meshgrid(x, y)\n    dX, dY, dZ = dXdt([X, Y,1-X-Y]) \n    #Make in to unit vectors. \n    M = np.hypot(dX,dY)\n    dX = dX/M\n    dY = dY/M\n    ax.quiver(X, Y, dX, dY, pivot='mid')\n\n\nF_equilibrium = np.linspace(0, 1,  1000)               \nL_equilibrium = c/(b*F_equilibrium)     \n\nfig,ax=plt.subplots(1,2)\nplotOverTime(ax[0],F,'-')\nax[1].plot(L_equilibrium,F_equilibrium,linestyle=':',color='k')\nplotPhasePlane(ax[1],L,F,'-')\ndrawArrows(ax[1],dXdt)\nplt.show()"
      ]
    },
    {
      "cell_type": "markdown",
      "metadata": {},
      "source": [
        "Now lets make b smaller\n\n\n\n"
      ]
    },
    {
      "cell_type": "code",
      "execution_count": null,
      "metadata": {
        "collapsed": false
      },
      "outputs": [],
      "source": [
        "b=3.5\nc = 0.4\n\nfig,ax=plt.subplots(1,2)\n\nt = np.linspace(0, 20,  1000)         # time\nX0 = np.array([0.9, 0.1,0.0000])      # initially 10% have found food\nX = integrate.odeint(dXdt, X0, t)     # uses a Python package to simulate the interactions\nL, F, R = X.T\nplotOverTime(ax[0],F,'-')\nplotPhasePlane(ax[1],L,F,'-')\n\n\nt = np.linspace(0, 20,  1000)         # time\nX0 = np.array([0.75, 0.25,0.0000])      # initially 25% have found food\nX = integrate.odeint(dXdt, X0, t)     # uses a Python package to simulate the interactions\nL, F, R = X.T\nplotOverTime(ax[0],F,'--')\nplotPhasePlane(ax[1],L,F,'--')\n\nF_equilibrium = np.linspace(0, 1,  1000)               \nL_equilibrium = c/(b*F_equilibrium)    \nax[1].plot(L_equilibrium,F_equilibrium,linestyle=':',color='k')\ndrawArrows(ax[1],dXdt)\n \n\nplt.show()"
      ]
    },
    {
      "cell_type": "markdown",
      "metadata": {},
      "source": [
        "And b smaller still\n\n\n\n"
      ]
    },
    {
      "cell_type": "code",
      "execution_count": null,
      "metadata": {
        "collapsed": false
      },
      "outputs": [],
      "source": [
        "b=1\nc = 0.4\n\nfig,ax=plt.subplots(1,2)\n\nt = np.linspace(0, 20,  1000)         # time\nX0 = np.array([0.9, 0.1,0.0000])      # initially 10% have found food\nX = integrate.odeint(dXdt, X0, t)     # uses a Python package to simulate the interactions\nL, F, R = X.T\nplotOverTime(ax[0],F,'-')\nplotPhasePlane(ax[1],L,F,'-')\n\n\nt = np.linspace(0, 20,  1000)         # time\nX0 = np.array([0.75, 0.25,0.0000])      # initially 25% have found food\nX = integrate.odeint(dXdt, X0, t)     # uses a Python package to simulate the interactions\nL, F, R = X.T\nplotOverTime(ax[0],F,'--')\nplotPhasePlane(ax[1],L,F,'--')\n\n\nt = np.linspace(0, 20,  1000)         # time\nX0 = np.array([0.25, 0.75,0.0000])      # initially 25% have found food\nX = integrate.odeint(dXdt, X0, t)     # uses a Python package to simulate the interactions\nL, F, R = X.T\nplotOverTime(ax[0],F,'-.')\nplotPhasePlane(ax[1],L,F,'-.')\n\nF_equilibrium = np.linspace(0, 1,  1000)               \nL_equilibrium = c/(b*F_equilibrium)    \nax[1].plot(L_equilibrium,F_equilibrium,linestyle=':',color='k')\ndrawArrows(ax[1],dXdt)\n \n\nplt.show()"
      ]
    }
  ],
  "metadata": {
    "kernelspec": {
      "display_name": "Python 3",
      "language": "python",
      "name": "python3"
    },
    "language_info": {
      "codemirror_mode": {
        "name": "ipython",
        "version": 3
      },
      "file_extension": ".py",
      "mimetype": "text/x-python",
      "name": "python",
      "nbconvert_exporter": "python",
      "pygments_lexer": "ipython3",
      "version": "3.10.4"
    }
  },
  "nbformat": 4,
  "nbformat_minor": 0
}