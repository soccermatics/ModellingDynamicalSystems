{
  "cells": [
    {
      "cell_type": "code",
      "execution_count": null,
      "metadata": {
        "collapsed": false
      },
      "outputs": [],
      "source": [
        "%matplotlib inline"
      ]
    },
    {
      "cell_type": "markdown",
      "metadata": {},
      "source": [
        "\n\n# The butterfly effect\n\nFROM THE BOOK\n"
      ]
    },
    {
      "cell_type": "code",
      "execution_count": null,
      "metadata": {
        "collapsed": false
      },
      "outputs": [],
      "source": [
        "import numpy as np\nimport matplotlib.pyplot as plt\nimport matplotlib\nfrom pylab import rcParams\nmatplotlib.font_manager.FontProperties(family='Helvetica',size=11)\n\nfrom scipy import integrate\nfrom mpl_toolkits import mplot3d"
      ]
    },
    {
      "cell_type": "markdown",
      "metadata": {},
      "source": [
        "## The Lorenz equations\n\nThe differential equations propsed by Lorenz are\n\n\\begin{align}\\\\frac{dX}{dt} &= s(Y-X) \\\\\n      \\\\frac{dY}{dt} &= rX - Y - XZ \\\\\n      \\\\frac{dZ}{dt} &= XY - bZ\\end{align}\n\nThere are three parameter values, which are set to $s=10$, $r=28$ \nand $b=8/3$ to create the butterfly (th Lorenz attractor). \n\nLet's first define a function which gives the derivatives at each point\n\n"
      ]
    },
    {
      "cell_type": "code",
      "execution_count": null,
      "metadata": {
        "collapsed": false
      },
      "outputs": [],
      "source": [
        "def lorenz(XYZ,t=0):\n    \n    \n    dXdt = s*(XYZ[1] - XYZ[0])                  # X \n    dYdt = r*XYZ[0] - XYZ[1] - XYZ[0]*XYZ[2]    # Y \n    dZdt = XYZ[0]*XYZ[1] - b*XYZ[2]             # Z \n    \n    return np.array([dXdt, dYdt, dZdt])\n\n\n# Parameter values\ns=10\nr=28\nb=8/3"
      ]
    },
    {
      "cell_type": "markdown",
      "metadata": {},
      "source": [
        "Now we solve the equations numerically\n\n"
      ]
    },
    {
      "cell_type": "code",
      "execution_count": null,
      "metadata": {
        "collapsed": false
      },
      "outputs": [],
      "source": [
        "endtime=300\ndt = 0.01 \n\nt = np.linspace(0,endtime, int(endtime/dt))               # time\nXYZ0 = np.array([0.3, 1.2, 5.05])          # initial conditions\nXYZ = integrate.odeint(lorenz, XYZ0, t)\n\nstart=int(200/dt)\nfinish=int(start+40/dt)\n\nrcParams['figure.figsize'] = 14/2.54, 14/2.54\nax=plt.subplot(projection='3d')\nax.set_xticks(np.arange(-20,21,step=10))\nax.set_yticks(np.arange(-20,21,step=10))\nax.set_zticks(np.arange(0,40,step=10))\nax.yaxis.labelpad=10\n#ax.plot( [mean1, mean1], [-1, 10], linestyle='dashed', color='black')\n#ax.text(-20,-20,50,'(a)') \nax.plot3D(XYZ[start:finish,0], XYZ[start:finish,1], XYZ[start:finish,2], lw=1,color='k')\nax.set_xlabel(\"Strength of breeze ($X$)\")\nax.set_ylabel(\"Temperature difference \\n between currents ($Y$)\")\nax.set_zlabel(\"Land/air temperature \\n distortion ($Z$) \")\n\n# Get rid of colored axes planes\n# First remove fill\nax.xaxis.pane.fill = False\nax.yaxis.pane.fill = False\nax.zaxis.pane.fill = False\n\n# Now set color to white (or whatever is \"invisible\")\nax.xaxis.pane.set_edgecolor('w')\nax.yaxis.pane.set_edgecolor('w')\nax.zaxis.pane.set_edgecolor('w')\n\nax.set_xlim(-21,21)\nax.set_zlim(0,40) \nax.set_ylim(-21,21)\n\n\nplt.show()"
      ]
    },
    {
      "cell_type": "markdown",
      "metadata": {},
      "source": [
        "Plot through time\n\n"
      ]
    },
    {
      "cell_type": "code",
      "execution_count": null,
      "metadata": {
        "collapsed": false
      },
      "outputs": [],
      "source": [
        "rcParams['figure.figsize'] = 14/2.54, 7/2.54\n\nfinish=int(start+20/dt)\n\nfig,ax=plt.subplots(num=1)\nax.plot(XYZ[start:finish,0], color='black')\nax.plot(XYZ[start:finish,1], color='green')\nax.plot(XYZ[start:finish,2], color='red')\nplt.show()\nfig.savefig('lorenz_z.pdf', dpi=None, bbox_inches=\"tight\")\n\n\nfrom scipy.signal import argrelextrema"
      ]
    },
    {
      "cell_type": "markdown",
      "metadata": {},
      "source": [
        "Find local maxima.\n\n"
      ]
    },
    {
      "cell_type": "code",
      "execution_count": null,
      "metadata": {
        "collapsed": false
      },
      "outputs": [],
      "source": [
        "rcParams['figure.figsize'] = 14/2.54, 7/2.54\n\n# for local maxima\nzm= XYZ[:,2]\nmaxz=argrelextrema(zm, np.greater)\nzm=zm[maxz]\n\nzm=zm[20:]\nfig,ax=plt.subplots(num=1)\nax.plot(np.arange(len(zm)),zm, color='black')\nfig.savefig('lorenz_max.pdf', dpi=None, bbox_inches=\"tight\")\n\nmatplotlib.font_manager.FontProperties(family='Helvetica',size=11)\n\nax.set_ylabel('Maximum value of $Z$')\nax.set_xlabel('Iteration round the butterfly')\nax.set_ylim((27,52))\nax.set_xlim((0,50))\nax.set_xticks(range(0,60,10))\nax.set_yticks(range(30,60,10))\nax.spines['top'].set_visible(False)\nax.spines['right'].set_visible(False)\n\nplt.show()"
      ]
    },
    {
      "cell_type": "markdown",
      "metadata": {},
      "source": [
        "Now make a map of maxima from one time to the next\n\n"
      ]
    },
    {
      "cell_type": "code",
      "execution_count": null,
      "metadata": {
        "collapsed": false
      },
      "outputs": [],
      "source": [
        "rcParams['figure.figsize'] = 4/2.54, 4/2.54\nfig,ax=plt.subplots(num=1)\nax.plot(zm[:-1],zm[1:],linestyle='none',marker='.',color='k')\nax.text(29,48,'(c)')\nax.set_ylabel('Next Maximum of $Z$')\nax.set_xlabel('Previous Maximum of $Z$')\nax.spines['top'].set_visible(False)\nax.spines['right'].set_visible(False)\nax.set_xticks(np.arange(20,51,step=10))\nax.set_yticks(np.arange(20,51,step=10))\nax.set_xlim(27,52)\nax.set_ylim(27,52) \nfig.savefig('lorenz_map.pdf', dpi=None, bbox_inches=\"tight\")"
      ]
    }
  ],
  "metadata": {
    "kernelspec": {
      "display_name": "Python 3",
      "language": "python",
      "name": "python3"
    },
    "language_info": {
      "codemirror_mode": {
        "name": "ipython",
        "version": 3
      },
      "file_extension": ".py",
      "mimetype": "text/x-python",
      "name": "python",
      "nbconvert_exporter": "python",
      "pygments_lexer": "ipython3",
      "version": "3.10.4"
    }
  },
  "nbformat": 4,
  "nbformat_minor": 0
}