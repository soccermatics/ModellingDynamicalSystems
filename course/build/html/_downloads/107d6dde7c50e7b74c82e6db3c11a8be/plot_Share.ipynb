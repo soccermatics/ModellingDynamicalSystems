{
  "cells": [
    {
      "cell_type": "code",
      "execution_count": null,
      "metadata": {
        "collapsed": false
      },
      "outputs": [],
      "source": [
        "%matplotlib inline"
      ]
    },
    {
      "cell_type": "markdown",
      "metadata": {},
      "source": [
        "\n# Share prices\n\nWe now use our function to calulate a covariance function for H&M share \nprices.\n"
      ]
    },
    {
      "cell_type": "code",
      "execution_count": null,
      "metadata": {
        "collapsed": false
      },
      "outputs": [],
      "source": [
        "import random\nimport numpy as np\nimport matplotlib.pyplot as plt\nimport matplotlib\nfrom pylab import rcParams\nmatplotlib.font_manager.FontProperties(family='Helvetica',size=11)\nrcParams['figure.figsize'] = 14/2.54, 14/2.54\nimport pandas as pd\n\n\n\ndef R_theoretical(a_vals,maxtau,sigma=1):\n    R = np.zeros(maxtau)\n    for tau in range(maxtau):\n        R[tau] = np.power(-a_vals[0],tau)* (np.power(sigma,2)/(1-np.power(a_vals[0],2)))\n\n    return R\n\n\n\n\ndef plotOverTime(ax, w):\n    n=len(w)\n    t=np.arange(n)\n    ax.plot(t,w, '-',color='k')\n    ax.set_xlabel('Time: t')\n    ax.spines['top'].set_visible(False)\n    ax.spines['right'].set_visible(False)\n    ax.set_xticks(np.arange(0,n,step=n/5))\n    ax.set_yticks(np.arange(-n,n+1,step=10))\n    ax.set_xlim(0,n)\n    ax.set_ylim(-2*np.sqrt(n),2*np.sqrt(n)) \n\nshare_prices=pd.read_csv('../data/HandM.csv')\nw = share_prices['Average price']\nw=np.array(w.dropna())\nfig,ax=plt.subplots(1)\n\n\nw=w-np.mean(w)\nplotOverTime(ax, w)\nax.set_ylim(-10,10) \nplt.show()\n\nfig,ax=plt.subplots(1)\nR=R_empirical(w,maxtau=200)\nplotOverTime(ax, R)\n\n\nplt.show()"
      ]
    }
  ],
  "metadata": {
    "kernelspec": {
      "display_name": "Python 3",
      "language": "python",
      "name": "python3"
    },
    "language_info": {
      "codemirror_mode": {
        "name": "ipython",
        "version": 3
      },
      "file_extension": ".py",
      "mimetype": "text/x-python",
      "name": "python",
      "nbconvert_exporter": "python",
      "pygments_lexer": "ipython3",
      "version": "3.10.4"
    }
  },
  "nbformat": 4,
  "nbformat_minor": 0
}