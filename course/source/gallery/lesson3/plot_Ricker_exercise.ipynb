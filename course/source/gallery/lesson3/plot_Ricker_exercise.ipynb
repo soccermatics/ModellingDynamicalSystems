{
  "cells": [
    {
      "cell_type": "code",
      "execution_count": null,
      "metadata": {
        "collapsed": false
      },
      "outputs": [],
      "source": [
        "%matplotlib inline"
      ]
    },
    {
      "cell_type": "markdown",
      "metadata": {},
      "source": [
        "\n\n# Ricker map\n\n**Now you should study a model yourself!** Download the page as a \nPython notebook and fill in the missing code according to the instructions.\n\n## The model\n\nThe Ricker map is another discrete model of growth and regulatory feedback. \nIt describes a variable $x(k)$ which changes over discrete times steps.\nThe variable might be, for example, size of an insect population.  \n\nWe write the model as \n\n\\begin{align}\\end{align}\n  \n  x(k+1)) = r x(k)\\exp(-x(k))\n\nThe parameter $r$ determines growth rate. Investigate the dynamics \nof this model. Find and plot values of $r$ where the population is stable, where \nit oscilLates with period 2, where it oscilLates with period 4 and where it oscilLates \nwith period 3. \n"
      ]
    },
    {
      "cell_type": "code",
      "execution_count": null,
      "metadata": {
        "collapsed": false
      },
      "outputs": [],
      "source": [
        "import numpy as np\nimport matplotlib.pyplot as plt\nfrom pylab import rcParams\nimport matplotlib\nrcParams['figure.figsize'] = 12/2.54, 6/2.54\nmatplotlib.font_manager.FontProperties(family='Helvetica',size=11)\n\ndef logisticmap(x0,r,n):\n    xs=np.zeros(n+1)\n    xs[0]=x0\n    for k in range(n):\n        # Need to fill in correct equation here\n        xs[k+1]= xs[k]\n    return(xs)\n\ndef formatFigure(ax,n):\n    ax.set_ylabel('Number: $k$')\n    ax.set_xlabel('Step: $x(k)$')\n    ax.set_ylim((0,10))\n    ax.set_xlim((0,n))\n    ax.set_xticks(np.arange(0,n+1,n/10))\n    ax.set_yticks(np.arange(0,10.01,1))\n    ax.spines['top'].set_visible(False)\n    ax.spines['right'].set_visible(False)\n\nn=20\nx0=0.2"
      ]
    },
    {
      "cell_type": "markdown",
      "metadata": {},
      "source": [
        "## Cobweb diagrams\n\nMake cobweb diagrams for the values you found.\n\n"
      ]
    },
    {
      "cell_type": "markdown",
      "metadata": {},
      "source": [
        "## Sensitivity to initial conditions\n\nFind a value of $r$ where the Ricker map exhibits sensitivity to initial values. \nShow that even for an intitial difference of 0.0001 the resul of 20 iterations of the map\ngives a large difference.\n\n\n"
      ]
    },
    {
      "cell_type": "code",
      "execution_count": null,
      "metadata": {
        "collapsed": false
      },
      "outputs": [],
      "source": [
        "n=30\nr=0\n\nfig,ax=plt.subplots(num=1)\nax.plot(logisticmap(0.1000,r,n), color='black')\nax.plot(logisticmap(0.1001,r,n), color='red')\nformatFigure(ax,n)\nplt.show()"
      ]
    }
  ],
  "metadata": {
    "kernelspec": {
      "display_name": "Python 3",
      "language": "python",
      "name": "python3"
    },
    "language_info": {
      "codemirror_mode": {
        "name": "ipython",
        "version": 3
      },
      "file_extension": ".py",
      "mimetype": "text/x-python",
      "name": "python",
      "nbconvert_exporter": "python",
      "pygments_lexer": "ipython3",
      "version": "3.10.4"
    }
  },
  "nbformat": 4,
  "nbformat_minor": 0
}