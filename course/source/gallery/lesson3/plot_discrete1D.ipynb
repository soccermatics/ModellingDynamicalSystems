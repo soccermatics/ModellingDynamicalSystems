{
  "cells": [
    {
      "cell_type": "code",
      "execution_count": null,
      "metadata": {
        "collapsed": false
      },
      "outputs": [],
      "source": [
        "%matplotlib inline"
      ]
    },
    {
      "cell_type": "markdown",
      "metadata": {},
      "source": [
        "\n\n# El Farol\n"
      ]
    },
    {
      "cell_type": "code",
      "execution_count": null,
      "metadata": {
        "collapsed": false
      },
      "outputs": [],
      "source": [
        "import numpy as np"
      ]
    },
    {
      "cell_type": "markdown",
      "metadata": {},
      "source": [
        "## Alex story\n\nIn Alex story we take the attendance at the bar the previous week, :math:\u00b4x_t'\ndouble it. If \u00b42x_t \\leq 50' then the number of visitors the next week is \n\n\\begin{align}x_{t+1} =2x_t\\end{align}\n\nOn the other hand, if :math:\u00b42x_t > 50' then the number of visitors next week is\n\n\\begin{align}x_{t+1} = 2(100 - x_t)\\end{align}\n\nLet's implement this in Python \n\n"
      ]
    },
    {
      "cell_type": "code",
      "execution_count": null,
      "metadata": {
        "collapsed": false
      },
      "outputs": [],
      "source": [
        "import numpy as np\nimport matplotlib.pyplot as plt\nfrom pylab import rcParams\nimport matplotlib\nrcParams['figure.figsize'] = 12/2.54, 6/2.54\nmatplotlib.font_manager.FontProperties(family='Helvetica',size=11)\n\n\ndef tentmap(x0,n):\n    xs=np.zeros(n+1)\n    xs[0]=x0\n    for k in range(n):\n        xs[k+1]= 2* min(xs[k],100-xs[k])\n    return(xs)\n\nx0=20\nprint('One iteration:' )\nprint(tentmap(x0,1))\nprint('Two iterations:' )\nprint(tentmap(x0,2))\nprint('Three iterations:' )\nprint(tentmap(x0,3))"
      ]
    },
    {
      "cell_type": "markdown",
      "metadata": {},
      "source": [
        "If we keep iterating, we get\n\n"
      ]
    },
    {
      "cell_type": "code",
      "execution_count": null,
      "metadata": {
        "collapsed": false
      },
      "outputs": [],
      "source": [
        "print('Eleven iterations:' )\nprint(tentmap(x0,11))"
      ]
    },
    {
      "cell_type": "markdown",
      "metadata": {},
      "source": [
        "## Chocolate cake\n\nIn Richard chocolate cake story we \n\n\n"
      ]
    },
    {
      "cell_type": "code",
      "execution_count": null,
      "metadata": {
        "collapsed": false
      },
      "outputs": [],
      "source": [
        "print('Starting with 13:' )\nprint(tentmap(13,7))\nprint('Starting with 14:' )\nprint(tentmap(14,7))"
      ]
    },
    {
      "cell_type": "markdown",
      "metadata": {},
      "source": [
        "Let's make the difference only 0.1\n\n\n"
      ]
    },
    {
      "cell_type": "code",
      "execution_count": null,
      "metadata": {
        "collapsed": false
      },
      "outputs": [],
      "source": [
        "def formatFigure(ax,n):\n    ax.set_ylabel('Number')\n    ax.set_xlabel('Step')\n    ax.set_ylim((0,100))\n    ax.set_xlim((0,n))\n    ax.set_xticks(range(0,n+1,2))\n    ax.set_yticks(range(0,101,20))\n    ax.spines['top'].set_visible(False)\n    ax.spines['right'].set_visible(False)\n\nn=20\n\nfig,ax=plt.subplots(num=1)\nax.plot(tentmap(14.1,n), color='black')\nax.plot(tentmap(14.2,n), color='black',linestyle=':')\nformatFigure(ax,n)\nplt.show()"
      ]
    },
    {
      "cell_type": "markdown",
      "metadata": {},
      "source": [
        "And now let's make the difference only 0.001\n\n\n"
      ]
    },
    {
      "cell_type": "code",
      "execution_count": null,
      "metadata": {
        "collapsed": false
      },
      "outputs": [],
      "source": [
        "n=30\n\nfig,ax=plt.subplots(num=1)\nax.plot(tentmap(14.001,n), color='black')\nax.plot(tentmap(14.002,n), color='black',linestyle=':')\nformatFigure(ax,n)\nplt.show()"
      ]
    },
    {
      "cell_type": "markdown",
      "metadata": {},
      "source": [
        "## Cobweb diagrams\n\n\n"
      ]
    },
    {
      "cell_type": "code",
      "execution_count": null,
      "metadata": {
        "collapsed": false
      },
      "outputs": [],
      "source": [
        "n = 50 \n\nxs = tentmap(14.1,50)\nxp = xs[1]\n\nrcParams['figure.figsize'] = 12/2.54, 12/2.54\nfig,ax=plt.subplots(num=1)\n\nfor x in xs[2:]:\n    \n    ax.plot([xp, xp],[xp, x],color='k',linewidth=0.5)\n    ax.plot([xp, x],[x, x],color='k',linewidth=0.5)\n    xp = x\n\n\nax.plot([-0.5, 105.5],[-0.5, 105.5],linestyle=':',color='k',linewidth=1)\nax.plot([100, 50],[0, 100],color='k',linewidth=1)\nax.plot([0, 100/2],[0, 100],color='k',linewidth=1)\nax.set_xlabel('Previous number')\nax.set_ylabel('Next number')\nax.spines['top'].set_visible(False)\nax.spines['right'].set_visible(False)\nax.set_xticks(np.arange(0,101,step=20))\nax.set_yticks(np.arange(0,101,step=20))\nax.set_xlim(0,101)\nax.set_ylim(0,101) \nplt.show()"
      ]
    }
  ],
  "metadata": {
    "kernelspec": {
      "display_name": "Python 3",
      "language": "python",
      "name": "python3"
    },
    "language_info": {
      "codemirror_mode": {
        "name": "ipython",
        "version": 3
      },
      "file_extension": ".py",
      "mimetype": "text/x-python",
      "name": "python",
      "nbconvert_exporter": "python",
      "pygments_lexer": "ipython3",
      "version": "3.10.4"
    }
  },
  "nbformat": 4,
  "nbformat_minor": 0
}