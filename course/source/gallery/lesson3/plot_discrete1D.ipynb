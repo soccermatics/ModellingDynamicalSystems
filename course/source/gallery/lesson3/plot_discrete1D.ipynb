{
  "cells": [
    {
      "cell_type": "code",
      "execution_count": null,
      "metadata": {
        "collapsed": false
      },
      "outputs": [],
      "source": [
        "%matplotlib inline"
      ]
    },
    {
      "cell_type": "markdown",
      "metadata": {},
      "source": [
        "\n\n# Logistic Map\n\n\n\n## The model\n\nThe logistic map is a discrete model of growth and regulatory feedback. \nIt describes a variable $x(k)$ which changes over discrete times steps.\nThe variable might be, for example, size of an insect population.  \n\nWe write the model as \n\n\\begin{align}\\end{align}\n  \n  x(k+1)) = b x(k)(1-x(k))\n\nThe parameter $b$ determines how much the insect population increases when \n"
      ]
    },
    {
      "cell_type": "code",
      "execution_count": null,
      "metadata": {
        "collapsed": false
      },
      "outputs": [],
      "source": [
        "import numpy as np\nimport matplotlib.pyplot as plt\nfrom pylab import rcParams\nimport matplotlib\nrcParams['figure.figsize'] = 12/2.54, 6/2.54\nmatplotlib.font_manager.FontProperties(family='Helvetica',size=11)\n\n\ndef logisticmap(x0,b,n):\n    xs=np.zeros(n+1)\n    xs[0]=x0\n    for k in range(n):\n        xs[k+1]= b*xs[k]*(1-xs[k])\n    return(xs)\n\nb=2\nx0=0.1\nprint('One iteration with b=%d:'%b )\nprint(logisticmap(x0,b,1))\nprint('Two iterations with b=%d:'%b )\nprint(logisticmap(x0,b,2))\nprint('Three iterations with b=%d:'%b )\nprint(logisticmap(x0,b,3))"
      ]
    },
    {
      "cell_type": "markdown",
      "metadata": {},
      "source": [
        "If we keep iterating, we get\n\n"
      ]
    },
    {
      "cell_type": "code",
      "execution_count": null,
      "metadata": {
        "collapsed": false
      },
      "outputs": [],
      "source": [
        "print('Eleven iterations with b=%d:'%b )\nprint(logisticmap(x0,2,11))"
      ]
    },
    {
      "cell_type": "markdown",
      "metadata": {},
      "source": [
        "## Change over time\n\nLets start by plotting for b=2\n\n"
      ]
    },
    {
      "cell_type": "code",
      "execution_count": null,
      "metadata": {
        "collapsed": false
      },
      "outputs": [],
      "source": [
        "def formatFigure(ax,n):\n    ax.set_ylabel('Number: $k$')\n    ax.set_xlabel('Step: $x(k)$')\n    ax.set_ylim((0,1))\n    ax.set_xlim((0,n))\n    ax.set_xticks(np.arange(0,n+1,n/10))\n    ax.set_yticks(np.arange(0,1.01,0.2))\n    ax.spines['top'].set_visible(False)\n    ax.spines['right'].set_visible(False)\n\nn=20\n\nfig,ax=plt.subplots(num=1)\nax.plot(logisticmap(x0,2,n), color='black')\nformatFigure(ax,n)\nplt.show()"
      ]
    },
    {
      "cell_type": "markdown",
      "metadata": {},
      "source": [
        "## Increasing b\n\nNow let's take for b=2.5\n\n"
      ]
    },
    {
      "cell_type": "code",
      "execution_count": null,
      "metadata": {
        "collapsed": false
      },
      "outputs": [],
      "source": [
        "n=50\n\nfig,ax=plt.subplots(num=1)\nax.plot(logisticmap(x0,2.5,n), color='black')\nformatFigure(ax,n)\nplt.show()"
      ]
    },
    {
      "cell_type": "markdown",
      "metadata": {},
      "source": [
        "Then b= 3\n\n"
      ]
    },
    {
      "cell_type": "code",
      "execution_count": null,
      "metadata": {
        "collapsed": false
      },
      "outputs": [],
      "source": [
        "fig,ax=plt.subplots(num=1)\nax.plot(logisticmap(x0,3,n), color='black')\nformatFigure(ax,n)\nplt.show()"
      ]
    },
    {
      "cell_type": "markdown",
      "metadata": {},
      "source": [
        "Then b= 3.2\n\n"
      ]
    },
    {
      "cell_type": "code",
      "execution_count": null,
      "metadata": {
        "collapsed": false
      },
      "outputs": [],
      "source": [
        "fig,ax=plt.subplots(num=1)\nax.plot(logisticmap(x0,3.2,n), color='black')\nformatFigure(ax,n)\nplt.show()"
      ]
    },
    {
      "cell_type": "markdown",
      "metadata": {},
      "source": [
        "Then b= 3.5\n\n"
      ]
    },
    {
      "cell_type": "code",
      "execution_count": null,
      "metadata": {
        "collapsed": false
      },
      "outputs": [],
      "source": [
        "fig,ax=plt.subplots(num=1)\nax.plot(logisticmap(x0,3.5,n), color='black')\nformatFigure(ax,n)\nplt.show()"
      ]
    },
    {
      "cell_type": "markdown",
      "metadata": {},
      "source": [
        "Then b= 3.8\n\n"
      ]
    },
    {
      "cell_type": "code",
      "execution_count": null,
      "metadata": {
        "collapsed": false
      },
      "outputs": [],
      "source": [
        "fig,ax=plt.subplots(num=1)\nax.plot(logisticmap(x0,3.8,n), color='black')\nformatFigure(ax,n)\nplt.show()"
      ]
    },
    {
      "cell_type": "markdown",
      "metadata": {},
      "source": [
        "Then b= 3.9\n\n"
      ]
    },
    {
      "cell_type": "code",
      "execution_count": null,
      "metadata": {
        "collapsed": false
      },
      "outputs": [],
      "source": [
        "fig,ax=plt.subplots(num=1)\nax.plot(logisticmap(x0,3.9,n), color='black')\nformatFigure(ax,n)\nplt.show()"
      ]
    },
    {
      "cell_type": "markdown",
      "metadata": {},
      "source": [
        "## Cobweb diagrams\n\n\n"
      ]
    },
    {
      "cell_type": "code",
      "execution_count": null,
      "metadata": {
        "collapsed": false
      },
      "outputs": [],
      "source": [
        "n = 50 \n\nb_vals=[2.5, 3.2, 3.5, 3.9]\n\n\nrcParams['figure.figsize'] = 12/2.54, 12/2.54\nfig,ax=plt.subplots(2,2)\n\n\nfor i,b in enumerate(b_vals):\n    xs = logisticmap(0.1,b,50)\n    xp = xs[0]\n    ax[int(i/2)][np.mod(i,2)].plot([xp, xp],[0, xp],color='k',linewidth=0.5)\n    for x in xs:\n        ax[int(i/2)][np.mod(i,2)].plot([xp, xp],[xp, x],color='k',linewidth=0.5)\n        ax[int(i/2)][np.mod(i,2)].plot([xp, x],[x, x],color='k',linewidth=0.5)\n        xp = x\n    \n    xr=np.arange(0,1,0.001)\n    fxr=b*xr*(1-xr)\n    ax[int(i/2)][np.mod(i,2)].plot([-0.5, 105.5],[-0.5, 105.5],linestyle=':',color='k',linewidth=1)\n    ax[int(i/2)][np.mod(i,2)].plot(xr,fxr,color='k',linewidth=1)\n    ax[int(i/2)][np.mod(i,2)].set_xlabel('Previous number: $x(k)$')\n    ax[int(i/2)][np.mod(i,2)].set_ylabel('Next number: $x(k+1)$')\n    ax[int(i/2)][np.mod(i,2)].spines['top'].set_visible(False)\n    ax[int(i/2)][np.mod(i,2)].spines['right'].set_visible(False)\n    ax[int(i/2)][np.mod(i,2)].set_xticks(np.arange(0,1.01,step=0.20))\n    ax[int(i/2)][np.mod(i,2)].set_yticks(np.arange(0,1.01,step=0.20))\n    ax[int(i/2)][np.mod(i,2)].set_xlim(0,1.01)\n    ax[int(i/2)][np.mod(i,2)].set_ylim(0,1.01) \n    ax[int(i/2)][np.mod(i,2)].text(0.05,0.9,'b=%.1f'%b)\n    \nplt.show()"
      ]
    },
    {
      "cell_type": "markdown",
      "metadata": {},
      "source": [
        "## Sensitivity to initial conditions\n\nFor the case where $b=3.9$ lets look what happens as we iterate the map.\n\n\n"
      ]
    },
    {
      "cell_type": "code",
      "execution_count": null,
      "metadata": {
        "collapsed": false
      },
      "outputs": [],
      "source": [
        "n=7\nb=3.9\n\nprint('Starting with 0.1001:' )\nprint(logisticmap(0.1,b,n))\nprint('Starting with 0.1002:' )\nprint(logisticmap(0.11,b,n))"
      ]
    },
    {
      "cell_type": "markdown",
      "metadata": {},
      "source": [
        "Notice that even after a small number of iterations two initially close \npoints are far apart.\n\nNow let's make the difference only 0.001 and plot the change over time.\n\n\n"
      ]
    },
    {
      "cell_type": "code",
      "execution_count": null,
      "metadata": {
        "collapsed": false
      },
      "outputs": [],
      "source": [
        "n=30\nb=3.9\n\nfig,ax=plt.subplots(num=1)\nax.plot(logisticmap(0.1000,b,n), color='black')\nax.plot(logisticmap(0.1001,b,n), color='black',linestyle=':')\nformatFigure(ax,n)\nplt.show()"
      ]
    },
    {
      "cell_type": "markdown",
      "metadata": {},
      "source": [
        "It is this sensitivity to initial conditions which characterises choas. If we take\ntwo nearby points then (in almost all cases) they diverge after a small number of iteractions.\n\n"
      ]
    }
  ],
  "metadata": {
    "kernelspec": {
      "display_name": "Python 3",
      "language": "python",
      "name": "python3"
    },
    "language_info": {
      "codemirror_mode": {
        "name": "ipython",
        "version": 3
      },
      "file_extension": ".py",
      "mimetype": "text/x-python",
      "name": "python",
      "nbconvert_exporter": "python",
      "pygments_lexer": "ipython3",
      "version": "3.10.4"
    }
  },
  "nbformat": 4,
  "nbformat_minor": 0
}