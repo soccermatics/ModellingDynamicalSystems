{
  "cells": [
    {
      "cell_type": "code",
      "execution_count": null,
      "metadata": {
        "collapsed": false
      },
      "outputs": [],
      "source": [
        "%matplotlib inline"
      ]
    },
    {
      "cell_type": "markdown",
      "metadata": {},
      "source": [
        "\n\n# The SIR model\n  \nIn the SIR model, the rate of change of susceptible individuals is\n\n\\begin{align}:label: susc\\end{align}\n \n   \\frac{dS}{dt} = -\\beta S I \n\nand the rate of change of infectives is \n\n\\begin{align}:label: infect\\end{align}\n \n   \\frac{dI}{dt} = \\beta S I - \\gamma I\n\nThe constant $b$ is the rate of contact between people and $c$ is the rate of recovery.\nWe can also write down an equation for recovery as follows,\n\n\\begin{align}:label: recover\\end{align}\n \n   \\frac{dR}{dt} = \\gamma I\n\nIn this model $S$, $I$ and $R$ are proportions of the population. Summing them up gives $S+I+R=1$, since \neveryone in the popultaion is either susceptible, infective or recovered.\n\nLet's now solve these equations numerically. We start by importing the libraries we need from Python.\n"
      ]
    },
    {
      "cell_type": "code",
      "execution_count": null,
      "metadata": {
        "collapsed": false
      },
      "outputs": [],
      "source": [
        "import numpy as np\nimport matplotlib.pyplot as plt\nimport matplotlib\nfrom pylab import rcParams\nmatplotlib.font_manager.FontProperties(family='Helvetica',size=11)\nrcParams['figure.figsize'] = 9/2.54, 9/2.54\nfrom scipy import integrate"
      ]
    },
    {
      "cell_type": "markdown",
      "metadata": {},
      "source": [
        "Now we define the model. This code creates a function \nwhich we can use to simulate differential equations :eq:`susc` and :eq:`infect`. \nWe also define the parameter values. You can change these to see how\nchanges to the paramaters leads to changes in the outcome of the model. \n\nInvestigate yourself what happens when $b=1/3, 1/6, 1/10$.\n\n"
      ]
    },
    {
      "cell_type": "code",
      "execution_count": null,
      "metadata": {
        "collapsed": false
      },
      "outputs": [],
      "source": [
        "# Parameter values\nbeta = 1/2\ngamma = 1/7\n\n# Differential equation\ndef dXdt(X, t=0):\n    return np.array([  - beta*X[0]*X[1] ,              #Susceptible X[0] is S\n                      beta*X[0]*X[1]   - gamma*X[1],       #Infectives X[1] is I\n                      gamma*X[1]])                      #Recovered X[2] is R"
      ]
    },
    {
      "cell_type": "markdown",
      "metadata": {},
      "source": [
        "We solve the equations numerically and plot solution over time. \n\n"
      ]
    },
    {
      "cell_type": "code",
      "execution_count": null,
      "metadata": {
        "collapsed": false
      },
      "outputs": [],
      "source": [
        "def plotEpidemicOverTime(ax,t,S,I,R):\n\n    ax.plot(t, S, '--',color='k', label='Suceptible (S)')\n    ax.plot(t, I  , '-',color='k', label='Infectives (I)')\n    ax.plot(t, R  , ':',color='k', label='Recovered (R)')\n    ax.legend(loc='best')\n    ax.set_xlabel('Time: t')\n    ax.set_ylabel('Population')\n    ax.spines['top'].set_visible(False)\n    ax.spines['right'].set_visible(False)\n    ax.set_xticks(np.arange(0,100,step=10))\n    ax.set_yticks(np.arange(0,1.01,step=0.5))\n    ax.set_xlim(0,100)\n    ax.set_ylim(0,1) \n    \n\nt = np.linspace(0, 100,  1000)               # time\nX0 = np.array([0.9999, 0.0001,0.0000])      # initially 99.99% are uninfected\nX = integrate.odeint(dXdt, X0, t)           # uses a Python package to simulate the interactions\nS, I, R = X.T\nfig,ax=plt.subplots(num=1)\nplotEpidemicOverTime(ax,t,S,I,R)\nplt.show()"
      ]
    },
    {
      "cell_type": "markdown",
      "metadata": {},
      "source": [
        "As with the  `precator prey model<rabbitsandfoxes>` we can find\nthe equilibria where the rate at which people become infected equals the \nrate at which they recover by solving\n\n\\begin{align}\\\\frac{dI}{dt} = b S I - c I =0\\end{align}\n\nThis occurs either when $I=0$ (no-one has the disease) or \nwhen $S=\\gamma/\\beta$. We can now plot these equilibrium on the phase plane\n\n\n"
      ]
    },
    {
      "cell_type": "code",
      "execution_count": null,
      "metadata": {
        "collapsed": false
      },
      "outputs": [],
      "source": [
        "def plotPhasePlane(ax,S,I):\n    ax.plot(S, I, '-',color='k')\n    ax.set_xlabel('Susceptibles: S')\n    ax.set_ylabel('Infectives: I')\n    ax.spines['top'].set_visible(False)\n    ax.spines['right'].set_visible(False)\n    ax.set_xticks(np.arange(0,1.01,step=0.5))\n    ax.set_yticks(np.arange(0,1.01,step=0.5))\n    ax.set_ylim(0,1)   \n    ax.set_xlim(0,1) \n\ndef drawArrows(ax,dXdt):\n    x = np.linspace(0.05, 1 ,6)\n    y = np.linspace(0.05, 1, 6)\n    X , Y  = np.meshgrid(x, y)\n    dX, dY, dZ = dXdt([X, Y,1-X-Y]) \n    #Make in to unit vectors. \n    M = np.hypot(dX,dY)\n    dX = dX/M\n    dY = dY/M\n    ax.quiver(X, Y, dX, dY, pivot='mid')\n\nfig,ax=plt.subplots(num=1)\nax.plot([gamma/beta,gamma/beta],[-100,100],linestyle=':',color='k')\nplotPhasePlane(ax,S,I)\ndrawArrows(ax,dXdt)\nplt.show()"
      ]
    }
  ],
  "metadata": {
    "kernelspec": {
      "display_name": "Python 3",
      "language": "python",
      "name": "python3"
    },
    "language_info": {
      "codemirror_mode": {
        "name": "ipython",
        "version": 3
      },
      "file_extension": ".py",
      "mimetype": "text/x-python",
      "name": "python",
      "nbconvert_exporter": "python",
      "pygments_lexer": "ipython3",
      "version": "3.10.4"
    }
  },
  "nbformat": 4,
  "nbformat_minor": 0
}