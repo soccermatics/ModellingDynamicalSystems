{
  "cells": [
    {
      "cell_type": "code",
      "execution_count": null,
      "metadata": {
        "collapsed": false
      },
      "outputs": [],
      "source": [
        "%matplotlib inline"
      ]
    },
    {
      "cell_type": "markdown",
      "metadata": {},
      "source": [
        "\n\n# Rabbits and foxes\n\n## Building the model\n\nLet the constant $a$ as being the rate of reproduction of the rabbits: \nhow many baby rabbits an adult rabbit has per month. So, the rabbits grow \naccording to \n\n\\begin{align}:label: rabbitgrow\n\n   \\frac{dR}{dt} = a R\\end{align}\nThis equation denotes the rate of change of $R$ over time. \nthe top part of the fraction $dR$ denotes the change in rabbits, $R$, \nand the bottom part, $dt$, denotes the change in time, $t$. The \nrabbits grow proportionally to the number of rabbits. \n\nLet's add a term to describe how foxes eat rabbits. The rate of change for rabbits now becomes\n\n\\begin{align}:label: rabbits\\end{align}\n \n   \\frac{dR}{dt} = a R - b R F\n\nSimilarly, we can write the rate of change of foxes as \n\n\\begin{align}:label: foxes\\end{align}\n \n   \\frac{dF}{dt} =  \\underbrace{c R F}_{\\mbox{F} + \\mbox{R} \\xrightarrow{c} 2 \\mbox{F}} - \\underbrace{d R}_{\\mbox{R} \\xrightarrow{d} 2 \\mbox{R}}\n\nNotice that we have a different rate parameter for the death of rabbits ($b$) \nthan for the birth of foxes ($c$). This is because\nit takes more than one rabbit to feed a fox and we set the parameters so that $c<b$.\n\nA mathematical model like this is not to be entirely realistic. Rather, it tries to capture the essence of the problem. \nWe want to imagine a big grassy meadow, where the more rabbits there are, the faster the rabbit \npopulation grows and the more foxes there are the faster the rabbits are eaten. We will try to \nunderstand this abstract problem first, before we make any claims about what happens to real \nrabbits and real foxes. \n\n\n## Simulating the model\n\nWe can use Python to run a numerical simulation of the model.\n"
      ]
    },
    {
      "cell_type": "code",
      "execution_count": null,
      "metadata": {
        "collapsed": false
      },
      "outputs": [],
      "source": [
        "# Import the libraries we use\nimport numpy as np\nimport matplotlib.pyplot as plt\nimport matplotlib\nfrom pylab import rcParams\nmatplotlib.font_manager.FontProperties(family='Helvetica',size=11)\nrcParams['figure.figsize'] = 14/2.54, 10/2.54\nfrom scipy import integrate"
      ]
    },
    {
      "cell_type": "markdown",
      "metadata": {},
      "source": [
        "We start by defining the model. This code creates a function \nwhich we can use to simulate differential equations :eq:`rabbits` and :eq:`foxes`.\n\n"
      ]
    },
    {
      "cell_type": "code",
      "execution_count": null,
      "metadata": {
        "collapsed": false
      },
      "outputs": [],
      "source": [
        "# Differential equation\ndef dXdt(X, t=0):\n    # Growth rate of fox and rabbit populations.\n    return np.array([ a*X[0]        - b*X[0]*X[1] ,      #Rabbits X[0] is R\n                      c*X[0]*X[1]   - d*X[1]])           #Foxes X[1] is F"
      ]
    },
    {
      "cell_type": "markdown",
      "metadata": {},
      "source": [
        "Next we define the parameter values. You can change these to see how\nchanges to the paramaters leads to changes in the outcome of the model. \n\n"
      ]
    },
    {
      "cell_type": "code",
      "execution_count": null,
      "metadata": {
        "collapsed": false
      },
      "outputs": [],
      "source": [
        "# Parameter values\na = 5\nb = 1\nc = 0.15\nd = 1"
      ]
    },
    {
      "cell_type": "markdown",
      "metadata": {},
      "source": [
        "Now we solve the equations numerically\n\n"
      ]
    },
    {
      "cell_type": "code",
      "execution_count": null,
      "metadata": {
        "collapsed": false
      },
      "outputs": [],
      "source": [
        "t = np.linspace(0, 20,  1000)               # time\nX0 = np.array([10, 2])                     # initially 10 rabbits and 2 foxes\nX = integrate.odeint(dXdt, X0, t)\nR, F = X.T\n\nfig,ax=plt.subplots(num=1)\nax.plot(t, R, '-',color='k', label='Rabbits (R)')\nax.plot(t, F  , '--',color='k', label='Foxes (F)')\nax.legend(loc='best')\nax.set_xlabel('Time: t')\nax.set_ylabel('Population')\nax.spines['top'].set_visible(False)\nax.spines['right'].set_visible(False)\nax.set_xticks(np.arange(0,12,step=1))\nax.set_yticks(np.arange(0,50,step=10))\nax.set_xlim(0,12)\nax.set_ylim(0,25) \nplt.show()"
      ]
    },
    {
      "cell_type": "markdown",
      "metadata": {},
      "source": [
        "First the rabbit populations grow, because there are only two foxes.\nBut this leads to an increase in foxes. Once the population of foxes is sufficiently\nlarge, they then start reducing rabbit populations and they die out. Then,\nwhen there are few rabbits left, the foxes start to die out too, allowing the rabbit \npopulation to grow again.\n\n## Visualising the cycle\n\nIn the figure above, we show how foxes and rabbits change over time.\nWe can also plot how they change relative to each other (a so called phase plane). \nFor the numerical simulations we do this as follows:\n\n"
      ]
    },
    {
      "cell_type": "code",
      "execution_count": null,
      "metadata": {
        "collapsed": false
      },
      "outputs": [],
      "source": [
        "def plotPhasePlane(ax,R,F):\n    ax.plot(R, F, '-',color='k')\n    ax.set_xlabel('Rabbits: R')\n    ax.set_ylabel('Foxes: F')\n    ax.spines['top'].set_visible(False)\n    ax.spines['right'].set_visible(False)\n    ax.set_xticks(np.arange(0,30,step=5))\n    ax.set_yticks(np.arange(0,20,step=5))\n    ax.set_ylim(0,12)   \n    ax.set_xlim(0,30) \n    \n    \nfig,ax=plt.subplots(num=1)\nplotPhasePlane(ax,R,F)\nplt.show()"
      ]
    },
    {
      "cell_type": "markdown",
      "metadata": {},
      "source": [
        "## Finding the equilibrium\nIn order to better understand this cycle we look at\nthe equilibria (the steady states) where the rate at which rabbits are born equals the rate \nat which they die. We can find the rabbit equilibtirum by solving\n\n\\begin{align}\\frac{dR}{dt} = a R - b R F =0\\end{align}\n\ni.e. the number of rabbits does not change over time. This occurs either when \n$R=0$ (all the rabbits are dead) or when $F=a/b$ (when the number of\nfoxes is equal to the birth rate of rabbits divided by the rate at which \nfoxes eat rabbits).\n\nSimilarly, we can find the fox equilibtirum by solving\n\n\\begin{align}\\frac{dF}{dt} = c R F - d F =0\\end{align}\n\ni.e. the number of foxes does not change over time. This occurs either when \n$F=0$ (all the foxes are dead) or when $R=d/c$ (when the number of\nrabbits is equal to the death rate of foxes divided by the rate at which \nfoxes grow after eating rabbits).\n\nWe can now plot these equilibrium on the phase plane\n\n\n"
      ]
    },
    {
      "cell_type": "code",
      "execution_count": null,
      "metadata": {
        "collapsed": false
      },
      "outputs": [],
      "source": [
        "fig,ax=plt.subplots(num=1)\n#Plot the rabbit equilibrium\nax.plot([-100,100],[a/b,a/b],linestyle=':',color='k')\n#Plot the fox equilibrium\nax.plot([d/c,d/c],[-100,100],linestyle=':',color='k')\nplotPhasePlane(ax,R,F)"
      ]
    },
    {
      "cell_type": "markdown",
      "metadata": {},
      "source": [
        "We can draw arrows to indicate the direction of change. To\ndo this, we evaluate $dR/dt$ and $dF/dt$\nfor different values and plot them.\n\n"
      ]
    },
    {
      "cell_type": "code",
      "execution_count": null,
      "metadata": {
        "collapsed": false
      },
      "outputs": [],
      "source": [
        "x = np.linspace(1, 30 ,6)\ny = np.linspace(1, 12, 5)\nX , Y  = np.meshgrid(x, y)\ndX, dY = dXdt([X, Y]) \n#Make in to unit vectors. \nM = np.hypot(dX,dY)\ndX = dX/M\ndY = dY/M\n\nfig,ax=plt.subplots(num=1)\nax.quiver(X, Y, dX, dY, pivot='mid')\n#Plot the rabbit equilibrium\nax.plot([-100,100],[a/b,a/b],linestyle=':',color='k')\n#Plot the fox equilibrium\nax.plot([d/c,d/c],[-100,100],linestyle=':',color='k')\nplotPhasePlane(ax,R,F)"
      ]
    }
  ],
  "metadata": {
    "kernelspec": {
      "display_name": "Python 3",
      "language": "python",
      "name": "python3"
    },
    "language_info": {
      "codemirror_mode": {
        "name": "ipython",
        "version": 3
      },
      "file_extension": ".py",
      "mimetype": "text/x-python",
      "name": "python",
      "nbconvert_exporter": "python",
      "pygments_lexer": "ipython3",
      "version": "3.10.4"
    }
  },
  "nbformat": 4,
  "nbformat_minor": 0
}