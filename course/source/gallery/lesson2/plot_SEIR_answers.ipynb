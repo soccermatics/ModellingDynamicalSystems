{
  "cells": [
    {
      "cell_type": "code",
      "execution_count": null,
      "metadata": {
        "collapsed": false
      },
      "outputs": [],
      "source": [
        "%matplotlib inline"
      ]
    },
    {
      "cell_type": "markdown",
      "metadata": {},
      "source": [
        "\n\n# The SEIR model\n\n**Now you should study a model yourself!** Download the page as a \nPython notebook and fill in the missing code according to the instructions.\n\nIn the SEIR model, there is an additional class for people exposed (but not yet infective). The equations \nare now,\n\n  .. math::\n\n     \begin{aligned}\n     \frac{dS}{dt} & = - \beta S I \\\n     \frac{dE}{dt} & = \beta S I - \\delta E\\\n     \frac{dI}{dt} & = \\delta E -  \\gamma I \\\n     \frac{dR}{dt} & =  \\gamma I \n     \\end{aligned}\n\n## Simulating the model\n\n  Assume that $\\gamma=1/7$ and $\beta=1/5$. Write code to draw a\n  graph of $I(t)$ as a function of time ($t$) for the cases in which\n  (on average) a person is exposed for 1, 5 and respectively 9 days before they are infected.\n  Assume that $S(0)=999/1000$, $E(0)=0$\n  and $I(0)=1/1000$. \n"
      ]
    },
    {
      "cell_type": "code",
      "execution_count": null,
      "metadata": {
        "collapsed": false
      },
      "outputs": [],
      "source": [
        "import numpy as np\nimport matplotlib.pyplot as plt\nfrom pylab import rcParams\nimport matplotlib\nrcParams['figure.figsize'] = 12/2.54, 6/2.54\nmatplotlib.font_manager.FontProperties(family='Helvetica',size=11)\nfrom scipy import integrate\n\n# Parameter values\nbeta = 1/5\ngamma = 1/7\n\ntimesteps=400\n\n# Set up the equations here\ndef dXdt(X, t=0):\n    return np.array([  - beta*X[0]*X[2] ,              #Susceptible X[0] is S\n                      beta*X[0]*X[2]   - delta*X[1],    #Exposed X[1] is I\n                      delta*X[1]   - gamma*X[2],      #Infectives X[2] is I\n                      gamma*X[2]])                      #Recovered X[3] is R\n                 \n\ndef plotEpidemicOverTime(ax,S,E,I,R):\n\n    ax.plot(t, S, '--',color='k', label='Suceptible (S)')\n    ax.plot(t, E  , '',color='r', label='Exposed (E)')\n    ax.plot(t, I  , '-',color='k', label='Infectives (I)')\n    ax.plot(t, R  , ':',color='b', label='Recovered (R)')\n    ax.legend(loc='best')\n    ax.set_xlabel('Time: t')\n    ax.set_ylabel('Population')\n    ax.spines['top'].set_visible(False)\n    ax.spines['right'].set_visible(False)\n    ax.set_xticks(np.arange(0,timesteps,step=50))\n    ax.set_yticks(np.arange(0,1.01,step=0.5))\n    ax.set_xlim(0,timesteps)\n    ax.set_ylim(0,1) \n\nt = np.linspace(0, timesteps,  1000)               # time\nX0 = np.array([0.999, 0.000, 0.001,0.0000])      # initially 99.9% are uninfected\n    \n# Set delta here\nfor delta in np.array([1,1/5,1/9]):\n    X = integrate.odeint(dXdt, X0, t) # uses a Python package to simulate the interactions\n    S, E, I, R = X.T\n    fig,ax=plt.subplots(num=1)\n    plotEpidemicOverTime(ax,S,E,I,R)\n    plt.show()"
      ]
    },
    {
      "cell_type": "markdown",
      "metadata": {},
      "source": [
        "Does $\\delta$ have a large effect on the final number of people infected? \nAdd a text box and explain your answer below.\n\n"
      ]
    },
    {
      "cell_type": "markdown",
      "metadata": {},
      "source": [
        "## Introducing restrictions\n\nThe helath authority decide to introduce restrictions when a threshold $I_T$% of the population\nare infected. With restrictions $\\beta=1/10$ and without them $\\beta=1/5$. The other paramters are \n$\\gamma=1/7$ and $\\delta=1/3$.\nInvestigate the consequences of that decision for various values of $\\delta$, i.e. \nsimulate the spread,with $\\beta=1/5$ until $I(t)=I_T$ and then with $\\beta=1/10$. \nMake plots of $R(t)$ for different $T$ values\n\n\n"
      ]
    },
    {
      "cell_type": "code",
      "execution_count": null,
      "metadata": {
        "collapsed": false
      },
      "outputs": [],
      "source": [
        "t1 = np.linspace(0, timesteps,  1000)               # time\nX0 = np.array([0.999, 0.000, 0.001,0.0000])      # initially 99.9% are uninfected\n    \n# Set delta here\nfor IT in np.array([0.005,0.01,0.02]):\n    beta = 1/5\n    X1 = integrate.odeint(dXdt, X0, t1) # uses a Python package to simulate the interactions\n    S, E, I, R = X1.T\n    ind = (I>=IT).nonzero()[0]\n    onepercent=int(ind[0])\n    New_X0 = X1[onepercent,:]\n    X = X1[:onepercent,:]\n    t = t1[:onepercent]\n    t2 = np.linspace(t1[onepercent], timesteps,  1000)   \n    \n    beta = 1/10\n    X2 = integrate.odeint(dXdt, New_X0, t2) # uses a Python package to simulate the interactions\n    X = np.concatenate((X, X2), axis=0)\n    t = np.concatenate((t, t2), axis=0)\n    S, E, I, R = X.T\n    fig,ax=plt.subplots(num=1)\n    plotEpidemicOverTime(ax,S,E,I,R)\n    plt.show()"
      ]
    },
    {
      "cell_type": "markdown",
      "metadata": {},
      "source": [
        "## Code help\n\nThe following command will help you find then $I(t) \\geq 0.01$\n\n"
      ]
    },
    {
      "cell_type": "code",
      "execution_count": null,
      "metadata": {
        "collapsed": false
      },
      "outputs": [],
      "source": [
        "I = np.array([0.001, 0.0025, 0.005, 0.01, 0.02, 0.05])\nind = (I>=0.01).nonzero()[0]\nonepercent=int(ind[0])\nprint('Infectives became 1 percent at time %d'% onepercent)"
      ]
    },
    {
      "cell_type": "markdown",
      "metadata": {},
      "source": [
        "The following code concatenates two arrays\n\n"
      ]
    },
    {
      "cell_type": "code",
      "execution_count": null,
      "metadata": {
        "collapsed": false
      },
      "outputs": [],
      "source": [
        "X1 = np.array([[1, 2],[2,3],[3,6]])\nX2 = np.array([[3, 8],[4,9],[5,12]])\n\nX = np.concatenate((X1, X2), axis=0)\n\nprint('Concatinated matrix:\\n')\nprint(X)"
      ]
    },
    {
      "cell_type": "markdown",
      "metadata": {},
      "source": [
        "## Conclusions\n\nAdd a text box below and describe (in words) how $\\delta$ affects the outcome.\n\n\n"
      ]
    }
  ],
  "metadata": {
    "kernelspec": {
      "display_name": "Python 3",
      "language": "python",
      "name": "python3"
    },
    "language_info": {
      "codemirror_mode": {
        "name": "ipython",
        "version": 3
      },
      "file_extension": ".py",
      "mimetype": "text/x-python",
      "name": "python",
      "nbconvert_exporter": "python",
      "pygments_lexer": "ipython3",
      "version": "3.10.4"
    }
  },
  "nbformat": 4,
  "nbformat_minor": 0
}