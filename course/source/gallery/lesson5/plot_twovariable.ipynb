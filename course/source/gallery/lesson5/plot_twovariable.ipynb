{
  "cells": [
    {
      "cell_type": "code",
      "execution_count": null,
      "metadata": {
        "collapsed": false
      },
      "outputs": [],
      "source": [
        "%matplotlib inline"
      ]
    },
    {
      "cell_type": "markdown",
      "metadata": {},
      "source": [
        "\n\n# Two variable model\n\n## Plotting the data\n\nWe now make a Gapminder style plot of the data.\n"
      ]
    },
    {
      "cell_type": "code",
      "execution_count": null,
      "metadata": {
        "collapsed": false
      },
      "outputs": [],
      "source": [
        "#Import libraries\n#Plotting \nimport matplotlib as mpl\nimport matplotlib.pyplot as plt\nimport pandas as pd\nimport numpy as np\n\n#Import machine learning tools (for linear regression)\nimport sklearn.linear_model as skl_lm\nimport itertools\nimport math\n\ndf = pd.read_csv('../data/CM_GDP.csv')\n\ncountries=['SWE','USA','CHN','UGA']\ncountry_colour_dict= {\n  \"USA\": \"blue\",\n  \"CHN\": \"red\",\n  \"SWE\": \"yellow\",\n  \"UGA\": \"black\",\n  \"AFG\": \"green\"\n}\n\nfig,ax=plt.subplots(num=1)\nfor country in countries:\n    df_country=df.loc[df['Country'] == country]\n    ax.plot(df_country['GDP'], df_country['Child Mortality'],linestyle='none', markersize=3, color =country_colour_dict[country],  marker='o',label=country)\n    \nax.legend()\nax.set_xticks(np.arange(5,12,step=1))\nax.set_yticks(np.arange(0,200,step=25))\nax.set_ylabel('Child Mortality (per 1000)')\nax.set_xlabel('log(GDP)')\nax.spines['top'].set_visible(False)\nax.spines['right'].set_visible(False)\nax.set_ylim(0,201) \nax.set_xlim(5,11.5)"
      ]
    },
    {
      "cell_type": "markdown",
      "metadata": {},
      "source": [
        "## Fitting a model\n\nNow we fit a linear regression model where child mortality and GDP can\ninfluence each other. We assume that\n\n\\begin{align}\\begin{aligned}\n       y_C(k) & = C(k+1) - C(k) = a_C + b_{C0} C(k) + b_{C1} C(k)^2 & \\\\\n       &  + b_{C2} C(k)^3 + b_{C3} G(k) + b_{C4} G(k)^2 + b_{C5} C(k) G(k) + \\epsilon_C(k)& \\\\\n       &  , \\qquad \\epsilon_C(k) \\sim \\mathcal{N}(0, \\sigma_C^2) \n  \\end{aligned}\\end{align}\n\nand\n\n\\begin{align}\\begin{aligned}\n       y_G(k) & =  G(k+1) - G(k) = a_G + b_{G0} C(k) + b_{G1} C(k)^2 &  \\\\\n       &  + b_{G2} C(k)^3 + b_{G3} G(k) + b_{G4} G(k)^2 + b_{G5} C(k) G(k) + \\epsilon_G(k) & \\\\\n       & , \\qquad \\epsilon_G(k) \\sim \\mathcal{N}(0, \\sigma_G^2)\n  \\end{aligned}\\end{align}\n\n\ndescribes the interaction and fit the model below. We fit the model then\nplot the vector field it creates.\n\n"
      ]
    },
    {
      "cell_type": "code",
      "execution_count": null,
      "metadata": {
        "collapsed": false
      },
      "outputs": [],
      "source": [
        "df['C2'] = df['Child Mortality']**2\ndf['C3'] = df['Child Mortality']**3\ndf['G2'] = df['GDP']**2\ndf['CG'] = df['GDP']*df['Child Mortality']\nX_train = df[['Child Mortality','C2','C3','GDP','G2','CG']]\ny_train = df['Diff CM']\nmodel = skl_lm.LinearRegression(fit_intercept=True)\nmodel.fit(X_train, y_train)\n# Print the coefficients\nprint('The coefficients are:', model.coef_)\nprint('The offset is: {model.intercept_:.3f}')\nG,C = np.meshgrid(np.arange(5.5, 13, step=1),np.arange(0, 200, step=20))\nb = model.coef_\na =model.intercept_\ndC = a + b[0] * C + b[1]*C**2 + b[2]*C**3 + b[3]*G + b[4]*G**2 + b[5]*C*G\n\n\nX_train = df[['Child Mortality','C2','C3','GDP','G2','CG']]\ny_train = df['Diff GDP']\nmodel = skl_lm.LinearRegression(fit_intercept=True)\nmodel.fit(X_train, y_train)\n# Print the coefficients\nprint('The coefficients are:', model.coef_)\nprint('The offset is: {model.intercept_:.3f}')\nbG = model.coef_\naG =model.intercept_\ndG = aG + bG[0] * C + bG[1]*C**2 + bG[2]*C**3 + bG[3]*G + bG[4]*G**2 + bG[5]*C*G\n\n\nfig,ax=plt.subplots(num=1)\nax.quiver(G,C,dG*20,dC,color='grey')\nax.set_xticks(np.arange(5,13.5,step=1))\nax.set_yticks(np.arange(0,200,step=25))\nax.set_ylabel('Child Mortality (per 1000)')\nax.set_xlabel('log(GDP)')\nax.spines['top'].set_visible(False)\nax.spines['right'].set_visible(False)\nax.set_ylim(0,201) \nax.set_xlim(5,13) \nplt.show()"
      ]
    },
    {
      "cell_type": "markdown",
      "metadata": {},
      "source": [
        "We will simulate this model as one of the exercises on the next page.\n\n"
      ]
    }
  ],
  "metadata": {
    "kernelspec": {
      "display_name": "Python 3",
      "language": "python",
      "name": "python3"
    },
    "language_info": {
      "codemirror_mode": {
        "name": "ipython",
        "version": 3
      },
      "file_extension": ".py",
      "mimetype": "text/x-python",
      "name": "python",
      "nbconvert_exporter": "python",
      "pygments_lexer": "ipython3",
      "version": "3.10.4"
    }
  },
  "nbformat": 4,
  "nbformat_minor": 0
}