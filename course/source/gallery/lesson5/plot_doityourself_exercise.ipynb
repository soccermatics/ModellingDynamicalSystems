{
  "cells": [
    {
      "cell_type": "code",
      "execution_count": null,
      "metadata": {
        "collapsed": false
      },
      "outputs": [],
      "source": [
        "%matplotlib inline"
      ]
    },
    {
      "cell_type": "markdown",
      "metadata": {},
      "source": [
        "\n# Do it yourself\n\n## Fitting a single variable model to GDP\n\nThe plot below should show change in GDP for the four countries. The code below is wrong. Complete it by filling in the correct code\nbelow. (You can generate the data file needed using the code on page `World Bank Data<download>`)\n"
      ]
    },
    {
      "cell_type": "code",
      "execution_count": null,
      "metadata": {
        "collapsed": false
      },
      "outputs": [],
      "source": [
        "#Import libraries\n#Plotting \nimport matplotlib.pyplot as plt\nimport pandas as pd\nimport numpy as np\nimport sklearn.linear_model as skl_lm\n\ndf = pd.read_csv('../data/CM_GDP.csv')\n\ncountries=['SWE','USA','CHN','UGA']\ncountry_colour_dict= {\n  \"USA\": \"blue\",\n  \"CHN\": \"red\",\n  \"SWE\": \"yellow\",\n  \"UGA\": \"black\",\n  \"AFG\": \"green\"\n}\n\nfig,ax=plt.subplots(num=1)\nfor country in countries:\n    df_country=df.loc[df['Country'] == country]\n\n    years=np.array(df_country['Year']).astype('int32')\n    ax.plot(years,years,linestyle='none', color =country_colour_dict[country], markersize=3, marker='o',label=country)\nax.legend()\nax.set_xticks(np.arange(1960,2030,step=10))\nax.set_yticks(np.arange(5,14,step=1))\nax.set_ylabel('log GDP per person')\nax.set_xlabel('Year (k)')\nax.spines['top'].set_visible(False)\nax.spines['right'].set_visible(False)\nax.set_xlim(1960,2030)\nax.set_ylim(4,13) \n\nplt.show()"
      ]
    },
    {
      "cell_type": "markdown",
      "metadata": {},
      "source": [
        "## Single variable\n\nFit a linear regression model\n\n\\begin{align}y(k) = G(k+1) - G(k) = a + b_0 G(k) + b_1 G(k)^2 + \\epsilon, \\qquad \\epsilon \\sim \\mathcal{N}(0, \\sigma^2)\\end{align}\n\nto describe the change in log(GDP) from one year to the next. Write the code to do this below.\n\n\n"
      ]
    },
    {
      "cell_type": "markdown",
      "metadata": {},
      "source": [
        "This code can be used to make a plot of the change in GDP as a function of GDP.\n\n\n"
      ]
    },
    {
      "cell_type": "code",
      "execution_count": null,
      "metadata": {
        "collapsed": false
      },
      "outputs": [],
      "source": [
        "G = np.arange(0,14,0.1)\ndG = 0 + 0 * G + 0*G**2 \n\nfig,ax=plt.subplots(num=1)\nax.plot(df['GDP'],df['Diff GDP'],linestyle='none', markersize=1,color='grey',marker='.')\nax.plot(G,dG,linewidth=2)\nax.plot([0 ,200],[0, 0],linestyle=':',color='black')\nax.set_yticks(np.arange(-5,0.5,step=1))\nax.set_xticks(np.arange(4,14,step=1))\nax.set_ylabel('$G(k+1)-G(k)$')\nax.set_xlabel('log GDP: $G(k)$')\nax.spines['top'].set_visible(False)\nax.spines['right'].set_visible(False)\nax.set_xlim(4,14) \nax.set_ylim(-0.5,0.5) \nplt.show()"
      ]
    },
    {
      "cell_type": "markdown",
      "metadata": {},
      "source": [
        "Predict future evoltion of GDP\nAdd code to make this prediction\n\n"
      ]
    },
    {
      "cell_type": "code",
      "execution_count": null,
      "metadata": {
        "collapsed": false
      },
      "outputs": [],
      "source": [
        "fig,ax=plt.subplots(num=1)\nfor country in countries:\n    df_country=df.loc[df['Country'] == country]\n\n    years=np.array(df_country['Year']).astype('int32')\n    ax.plot(years,df_country['GDP'],linestyle='none', color =country_colour_dict[country], markersize=3, marker='o',label=country)\n  \n    numyears=20\n    future_GDP=np.zeros(numyears)\n    future_GDP[0]=df_country['GDP'][-1:]\n    \n    \n    for t in range(numyears-1):\n        future_GDP[t+1]=future_GDP[t] \n\n    ax.plot(int(df_country['Year'][-1:])+np.arange(numyears),future_GDP, color =country_colour_dict[country],linestyle='-',label=country)\nax.legend()\nax.set_xticks(np.arange(1960,2045,step=10))\nax.set_yticks(np.arange(4,14,step=1))\nax.set_ylabel('log GDP')\nax.set_xlabel('Year (k)')\nax.spines['top'].set_visible(False)\nax.spines['right'].set_visible(False)\nax.set_xlim(1960,2040)\nax.set_ylim(4,14)   \nplt.show()"
      ]
    },
    {
      "cell_type": "markdown",
      "metadata": {},
      "source": [
        "## Two variables\n\nFill in the code below to simulate the model we fitted on page `twovariable`_ \nto make predictions of how child mortality and GDP will chnage over the next 30 years.\n\nThe co-efficients in your simulated model must be the same as the ones you found when fitting the model.\n\n"
      ]
    },
    {
      "cell_type": "code",
      "execution_count": null,
      "metadata": {
        "collapsed": false
      },
      "outputs": [],
      "source": [
        "fig,ax=plt.subplots(num=1)\nfor country in countries:\n    df_country=df.loc[df['Country'] == country]\n    ax.plot(df_country['GDP'], df_country['Child Mortality'],linestyle='none', markersize=3, color =country_colour_dict[country],  marker='o',label=country)\n       \n    numyears=20\n    future_CM=np.zeros(numyears)\n    future_CM[0]=df_country['Child Mortality'][-1:]\n    future_GDP=np.zeros(numyears)\n    future_GDP[0]=df_country['GDP'][-1:]\n    \n    ax.legend()\n    \n    for t in range(numyears-1):\n        future_CM[t+1]=future_CM[t]\n        future_GDP[t+1]=future_GDP[t]\n        \n    ax.plot(future_GDP,future_CM, color =country_colour_dict[country],linestyle='-',label=country)\n\nax.set_xticks(np.arange(5,12,step=1))\nax.set_yticks(np.arange(0,200,step=25))\nax.set_ylabel('Child Mortality (per 1000)')\nax.set_xlabel('log(GDP)')\nax.spines['top'].set_visible(False)\nax.spines['right'].set_visible(False)\nax.set_ylim(0,201) \nax.set_xlim(5,11.5)"
      ]
    }
  ],
  "metadata": {
    "kernelspec": {
      "display_name": "Python 3",
      "language": "python",
      "name": "python3"
    },
    "language_info": {
      "codemirror_mode": {
        "name": "ipython",
        "version": 3
      },
      "file_extension": ".py",
      "mimetype": "text/x-python",
      "name": "python",
      "nbconvert_exporter": "python",
      "pygments_lexer": "ipython3",
      "version": "3.10.4"
    }
  },
  "nbformat": 4,
  "nbformat_minor": 0
}